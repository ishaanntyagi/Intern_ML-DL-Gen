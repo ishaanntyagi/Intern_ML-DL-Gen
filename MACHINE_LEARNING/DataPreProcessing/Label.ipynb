{
 "cells": [
  {
   "cell_type": "code",
   "execution_count": 3,
   "id": "604d838e",
   "metadata": {},
   "outputs": [],
   "source": [
    "from sklearn.preprocessing import LabelEncoder\n",
    "import pandas as pd \n"
   ]
  },
  {
   "cell_type": "code",
   "execution_count": 4,
   "id": "b16b5ea4",
   "metadata": {},
   "outputs": [],
   "source": [
    "#initializing the dataset\n",
    "data = {'color': ['red', 'green', 'blue', 'green', 'red', 'blue']}\n",
    "df = pd.DataFrame(data)\n",
    "\n"
   ]
  },
  {
   "cell_type": "code",
   "execution_count": 6,
   "id": "2c6f526a",
   "metadata": {},
   "outputs": [],
   "source": [
    "le = LabelEncoder()\n"
   ]
  },
  {
   "cell_type": "code",
   "execution_count": 7,
   "id": "61c1f490",
   "metadata": {},
   "outputs": [],
   "source": [
    "df['color_encoded'] = le.fit_transform(df['color'])"
   ]
  },
  {
   "cell_type": "code",
   "execution_count": 8,
   "id": "46f4430f",
   "metadata": {},
   "outputs": [
    {
     "name": "stdout",
     "output_type": "stream",
     "text": [
      "   color  color_encoded\n",
      "0    red              2\n",
      "1  green              1\n",
      "2   blue              0\n",
      "3  green              1\n",
      "4    red              2\n",
      "5   blue              0\n",
      "Classes: ['blue' 'green' 'red']\n"
     ]
    }
   ],
   "source": [
    "print(df)\n",
    "print(\"Classes:\", le.classes_)"
   ]
  },
  {
   "cell_type": "code",
   "execution_count": null,
   "id": "d21e072c",
   "metadata": {},
   "outputs": [],
   "source": [
    "#issue with label encoder is , it provides the Encoding in numerical form , that can be in a sequence , which can be an issue\n",
    "#hence once hot encoder is used to work the same issue out \n"
   ]
  }
 ],
 "metadata": {
  "kernelspec": {
   "display_name": "Python 3",
   "language": "python",
   "name": "python3"
  },
  "language_info": {
   "codemirror_mode": {
    "name": "ipython",
    "version": 3
   },
   "file_extension": ".py",
   "mimetype": "text/x-python",
   "name": "python",
   "nbconvert_exporter": "python",
   "pygments_lexer": "ipython3",
   "version": "3.13.4"
  }
 },
 "nbformat": 4,
 "nbformat_minor": 5
}
