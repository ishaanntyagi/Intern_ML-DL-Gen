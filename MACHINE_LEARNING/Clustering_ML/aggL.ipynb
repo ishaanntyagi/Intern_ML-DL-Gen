{
 "cells": [
  {
   "cell_type": "code",
   "execution_count": 38,
   "metadata": {},
   "outputs": [
    {
     "name": "stdout",
     "output_type": "stream",
     "text": [
      "   CustomerID  Gender  Age  Annual Income (k$)  Spending Score (1-100)\n",
      "0           1    Male   19                  15                      39\n",
      "1           2    Male   21                  15                      81\n",
      "2           3  Female   20                  16                       6\n",
      "3           4  Female   23                  16                      77\n",
      "4           5    Male   31                  17                      40\n",
      "       CustomerID        Age  Annual Income (k$)  Spending Score (1-100)\n",
      "count    10.00000  10.000000           10.000000               10.000000\n",
      "mean      5.50000  28.800000           17.000000               49.400000\n",
      "std       3.02765  13.464356            1.490712               35.094159\n",
      "min       1.00000  19.000000           15.000000                3.000000\n",
      "25%       3.25000  21.250000           16.000000               14.250000\n",
      "50%       5.50000  23.000000           17.000000               56.000000\n",
      "75%       7.75000  30.750000           18.000000               76.750000\n",
      "max      10.00000  64.000000           19.000000               94.000000\n",
      "<class 'pandas.core.frame.DataFrame'>\n",
      "RangeIndex: 10 entries, 0 to 9\n",
      "Data columns (total 5 columns):\n",
      " #   Column                  Non-Null Count  Dtype \n",
      "---  ------                  --------------  ----- \n",
      " 0   CustomerID              10 non-null     int64 \n",
      " 1   Gender                  10 non-null     object\n",
      " 2   Age                     10 non-null     int64 \n",
      " 3   Annual Income (k$)      10 non-null     int64 \n",
      " 4   Spending Score (1-100)  10 non-null     int64 \n",
      "dtypes: int64(4), object(1)\n",
      "memory usage: 532.0+ bytes\n",
      "None\n"
     ]
    }
   ],
   "source": [
    "import numpy as np \n",
    "import pandas as pd \n",
    "import matplotlib.pyplot as plt\n",
    "from sklearn.cluster import AgglomerativeClustering\n",
    "from sklearn.preprocessing import StandardScaler\n",
    "from scipy.cluster.hierarchy import dendrogram, linkage\n",
    "import seaborn as sns\n",
    "\n",
    "\n",
    "df = pd.read_csv(r\"C:\\\\Users\\\\ishaa\\\\Downloads\\\\mall_customer_sample.csv\")\n",
    "print(df.head())\n",
    "print(df.describe())\n",
    "print(df.info())\n"
   ]
  },
  {
   "cell_type": "code",
   "execution_count": 39,
   "metadata": {},
   "outputs": [
    {
     "name": "stdout",
     "output_type": "stream",
     "text": [
      "   Gender  Age  Annual Income (k$)  Spending Score (1-100)\n",
      "0    Male   19                  15                      39\n",
      "1    Male   21                  15                      81\n",
      "2  Female   20                  16                       6\n",
      "3  Female   23                  16                      77\n",
      "4    Male   31                  17                      40\n"
     ]
    }
   ],
   "source": [
    "df = df.drop(['CustomerID'], axis = 1) #axis == 0 is for rows \n",
    "print(df.head())"
   ]
  },
  {
   "cell_type": "code",
   "execution_count": 42,
   "id": "3e34645d",
   "metadata": {},
   "outputs": [
    {
     "name": "stdout",
     "output_type": "stream",
     "text": [
      "   Gender  Age  Annual Income (k$)  Spending Score (1-100)\n",
      "0       1   19                  15                      39\n",
      "1       1   21                  15                      81\n",
      "2       0   20                  16                       6\n",
      "3       0   23                  16                      77\n",
      "4       1   31                  17                      40\n",
      "   Gender  Age  Annual Income (k$)  Spending Score (1-100)\n",
      "0     NaN   19                  15                      39\n",
      "1     NaN   21                  15                      81\n",
      "2     NaN   20                  16                       6\n",
      "3     NaN   23                  16                      77\n",
      "4     NaN   31                  17                      40\n"
     ]
    }
   ],
   "source": [
    "X = df[[\"Gender\", \"Age\", \"Annual Income (k$)\", \"Spending Score (1-100)\"]] #selecting only these features for clustering\n",
    "print(X.head())\n",
    "df[\"Gender\"] = df[\"Gender\"].map({\"Male\": 1, \"Female\": 0})\n",
    "print(df.head())\n"
   ]
  },
  {
   "cell_type": "code",
   "execution_count": 43,
   "id": "20208dcd",
   "metadata": {},
   "outputs": [
    {
     "name": "stdout",
     "output_type": "stream",
     "text": [
      "StandardScaler()\n",
      "[[ 1.         -0.76721878 -1.41421356 -0.3123757 ]\n",
      " [ 1.         -0.61064352 -1.41421356  0.94914155]\n",
      " [-1.         -0.68893115 -0.70710678 -1.30356783]\n",
      " [-1.         -0.45406826 -0.70710678  0.82899705]\n",
      " [ 1.          0.17223279  0.         -0.28233958]\n",
      " [-1.         -0.53235589  0.          0.79896093]\n",
      " [-1.          0.48538331  0.70710678 -1.30356783]\n",
      " [ 1.         -0.45406826  0.70710678  1.33961118]\n",
      " [-1.          2.75572461  1.41421356 -1.39367621]\n",
      " [ 1.          0.09394516  1.41421356  0.67881643]]\n"
     ]
    }
   ],
   "source": [
    "scaler = StandardScaler()\n",
    "print(scaler) # scaling the features by Making an object of StandardScaler\n",
    "X_scaled = scaler.fit_transform(X) #first gender was converted to 1 and 0  so that the features can be scaled , else the error was arising that mentioned gender could not me converted to float ( value Error )\n",
    "print(X_scaled)\n"
   ]
  },
  {
   "cell_type": "code",
   "execution_count": 44,
   "id": "890c371a",
   "metadata": {},
   "outputs": [
    {
     "data": {
      "image/png": "[encoded data removed]",
      "text/plain": [
       "<Figure size 500x300 with 1 Axes>"
      ]
     },
     "metadata": {},
     "output_type": "display_data"
    },
    {
     "name": "stdout",
     "output_type": "stream",
     "text": [
      "X AXIS --> Number of points\n",
      "Y AXIS --> Euclidean Distance\n"
     ]
    }
   ],
   "source": [
    "# plotting the dendogram for understanding >\n",
    "plt.figure(figsize=(5,3))\n",
    "linked = linkage(X_scaled, method='ward') #ward is the method of agglomerative clustering and linkage is a predefined function in scipy for matrix creation for the agglo merative clustering\n",
    "dendrogram(linked)\n",
    "plt.show()\n",
    "print(\"X AXIS --> Number of points\" \"\\n\" \"Y AXIS --> Euclidean Distance\")"
   ]
  },
  {
   "cell_type": "code",
   "execution_count": 60,
   "id": "d096cae5",
   "metadata": {},
   "outputs": [
    {
     "name": "stdout",
     "output_type": "stream",
     "text": [
      "[0 0 0 0 0 0 0 0 1 0]\n",
      "[0 0 0 0 0 0 0 0 1 0]\n"
     ]
    }
   ],
   "source": [
    "agg_cluster = AgglomerativeClustering(n_clusters=2, metric='euclidean', linkage='average')  # Creating an object of AgglomerativeClustering with 3 clusters, euclidean distance metric, and average linkage\n",
    "labels = agg_cluster.fit_predict(X_scaled)\n",
    "print(labels)  # Display the cluster labels assigned to each data point\n",
    "\n",
    "# Add labels to original data\n",
    "df[\"Cluster\"] = labels\n",
    "# print(df.head())\n",
    "print(labels)\n"
   ]
  },
  {
   "cell_type": "code",
   "execution_count": 61,
   "id": "015f29eb",
   "metadata": {},
   "outputs": [
    {
     "data": {
      "image/png": "[encoded data removed]",
      "text/plain": [
       "<Figure size 800x600 with 1 Axes>"
      ]
     },
     "metadata": {},
     "output_type": "display_data"
    }
   ],
   "source": [
    "plt.figure(figsize=(8, 6))\n",
    "sns.scatterplot(data=df, x='Annual Income (k$)', y='Spending Score (1-100)', hue='Cluster', palette='Set1')\n",
    "plt.grid(True)\n",
    "plt.show()"
   ]
  }
 ],
 "metadata": {
  "kernelspec": {
   "display_name": "base",
   "language": "python",
   "name": "python3"
  },
  "language_info": {
   "codemirror_mode": {
    "name": "ipython",
    "version": 3
   },
   "file_extension": ".py",
   "mimetype": "text/x-python",
   "name": "python",
   "nbconvert_exporter": "python",
   "pygments_lexer": "ipython3",
   "version": "3.12.3"
  }
 },
 "nbformat": 4,
 "nbformat_minor": 5
}
