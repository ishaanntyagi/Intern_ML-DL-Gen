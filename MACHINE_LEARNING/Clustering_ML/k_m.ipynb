{
 "cells": [
  {
   "cell_type": "code",
   "execution_count": null,
   "id": "7ebca66d",
   "metadata": {},
   "outputs": [
    {
     "name": "stdout",
     "output_type": "stream",
     "text": [
      "<bound method NDFrame.head of      CustomerID   Genre  Age  Annual Income (k$)  Spending Score (1-100)\n",
      "0             1    Male   19                  15                      39\n",
      "1             2    Male   21                  15                      81\n",
      "2             3  Female   20                  16                       6\n",
      "3             4  Female   23                  16                      77\n",
      "4             5  Female   31                  17                      40\n",
      "..          ...     ...  ...                 ...                     ...\n",
      "195         196  Female   35                 120                      79\n",
      "196         197  Female   45                 126                      28\n",
      "197         198    Male   32                 126                      74\n",
      "198         199    Male   32                 137                      18\n",
      "199         200    Male   30                 137                      83\n",
      "\n",
      "[200 rows x 5 columns]>\n",
      "\n",
      "\n",
      "<bound method NDFrame.tail of      CustomerID   Genre  Age  Annual Income (k$)  Spending Score (1-100)\n",
      "0             1    Male   19                  15                      39\n",
      "1             2    Male   21                  15                      81\n",
      "2             3  Female   20                  16                       6\n",
      "3             4  Female   23                  16                      77\n",
      "4             5  Female   31                  17                      40\n",
      "..          ...     ...  ...                 ...                     ...\n",
      "195         196  Female   35                 120                      79\n",
      "196         197  Female   45                 126                      28\n",
      "197         198    Male   32                 126                      74\n",
      "198         199    Male   32                 137                      18\n",
      "199         200    Male   30                 137                      83\n",
      "\n",
      "[200 rows x 5 columns]>\n",
      "<bound method NDFrame.describe of      CustomerID   Genre  Age  Annual Income (k$)  Spending Score (1-100)\n",
      "0             1    Male   19                  15                      39\n",
      "1             2    Male   21                  15                      81\n",
      "2             3  Female   20                  16                       6\n",
      "3             4  Female   23                  16                      77\n",
      "4             5  Female   31                  17                      40\n",
      "..          ...     ...  ...                 ...                     ...\n",
      "195         196  Female   35                 120                      79\n",
      "196         197  Female   45                 126                      28\n",
      "197         198    Male   32                 126                      74\n",
      "198         199    Male   32                 137                      18\n",
      "199         200    Male   30                 137                      83\n",
      "\n",
      "[200 rows x 5 columns]>\n"
     ]
    }
   ],
   "source": [
    "# manual Implementation of Kmeans Clustering     \n",
    "# importing Libraries \n",
    "import pandas as pd \n",
    "import numpy as np \n",
    "import matplotlib.pyplot as plt\n",
    "from sklearn.preprocessing import StandardScaler\n",
    "\n",
    "df = pd.read_csv(r\"C:\\\\Users\\\\ishaa\\\\OneDrive\\\\Desktop\\\\InternshipGenAI\\\\kaggleDATA\\\\Mall_Customers.csv\")\n",
    "X = df.drop(['CustomerID', 'Genre'], axis=1).values\n",
    "\n",
    "\n",
    "# #printing the updated Features \n",
    "print(df.head)\n",
    "print(\"\\n\")\n",
    "print(df.tail)\n",
    "print(df.describe)"
   ]
  },
  {
   "cell_type": "code",
   "execution_count": null,
   "id": "dae2e097",
   "metadata": {},
   "outputs": [],
   "source": [
    "from sklearn.preprocessing import StandardScaler\n",
    "\n",
    "scaler = StandardScaler()                   # scaling features as the values might contain deviated values \n",
    "X_scaled = scaler.fit_transform(X)          \n",
    "\n",
    "# print(X_scaled)"
   ]
  },
  {
   "cell_type": "code",
   "execution_count": null,
   "id": "85c67c2c",
   "metadata": {},
   "outputs": [
    {
     "name": "stdout",
     "output_type": "stream",
     "text": [
      "[[-1.06573534 -0.02137488  0.06987881]\n",
      " [-1.20926872 -1.54815205  1.11806095]\n",
      " [ 1.51786549 -1.16645776 -1.7935561 ]]\n"
     ]
    }
   ],
   "source": [
    "#assigning the value of k \n",
    "K = 3\n",
    "np.random.seed(42) # this will help us get the same random result everytime , otherwise if we dont write this , interpreter might take random results everytime \n",
    "\n",
    "#inital_centroids.\n",
    "initial_centroids = X_scaled[            # Pick 3 random customers\n",
    "    np.random.choice(\n",
    "        X_scaled.shape[0],               # from total customers (say 200) # finds out the total number of rows in the data say that is 200 \n",
    "        K,                               # choose 3 indices\n",
    "        replace=False                    # don't choose the same customer twice\n",
    "    )\n",
    "]\n",
    "centroids = initial_centroids.copy() \n",
    "print(centroids)\n",
    "\n",
    "\n",
    "\n"
   ]
  },
  {
   "cell_type": "code",
   "execution_count": 38,
   "id": "b913ef44",
   "metadata": {},
   "outputs": [],
   "source": [
    "# now we need to find out which is the closest hence we need to calculate the Closest value for it to be assigned to a cluster \n",
    "def assign_clusters(X, centroids):\n",
    "    labels = []  # This will store the cluster index for each customer\n",
    "    \n",
    "    for point in X:  # For every customer in the dataset that is present in the data\n",
    "        distances = []  # This will store distances from this point to each centroid\n",
    "        \n",
    "        for centroid in centroids:\n",
    "            # Manually calculate Euclidean distance:\n",
    "            distance = 0\n",
    "            for i in range(len(point)):  # For each dimension (e.g., Age, Income, Score)\n",
    "                distance += (point[i] - centroid[i]) ** 2  # Square of the difference but not yer considering the underroot\n",
    "            \n",
    "            distance = distance ** 0.5  # Taking underooot \n",
    "            distances.append(distance)  # Add this distance to list the distance for one point one by one will be appended to the variable that has all distances \n",
    "        \n",
    "        # Find the index of the closest centroid (smallest distance)\n",
    "        labels.append(distances.index(min(distances)))\n",
    "    \n",
    "    return np.array(labels)  # Convert the list to a NumPy array\n",
    "\n"
   ]
  },
  {
   "cell_type": "code",
   "execution_count": 34,
   "id": "3594afb2",
   "metadata": {},
   "outputs": [],
   "source": [
    "#now we need to update the centroids as we need to update the centroids from the previous one \n",
    "def update_centroids(X, labels , K):\n",
    "    new_centroids = []\n",
    "\n",
    "    for k in range(K): #loop for each cluster \n",
    "        cluster_points = X[labels == k]   # points in the cluster \n",
    "\n",
    "        if len(cluster_points) > 0 :\n",
    "            new_centroid = cluster_points.mean(axis = 0)\n",
    "        else:\n",
    "            new_centroid = X[np.random.randint(0,X.shape[0])]\n",
    "        new_centroids.append(new_centroid)\n",
    "\n",
    "    return np.array(new_centroids)    "
   ]
  },
  {
   "cell_type": "code",
   "execution_count": 44,
   "id": "807aed9e",
   "metadata": {},
   "outputs": [
    {
     "name": "stdout",
     "output_type": "stream",
     "text": [
      "COMPLETED IN ;1 iterations.\n"
     ]
    }
   ],
   "source": [
    "max_iters = 100           # Just in case, we stop after 100 tries\n",
    "tolerance = 1e-4          # If centroids move less than this, we stop\n",
    "\n",
    "for i in range(max_iters):\n",
    "    labels = assign_clusters(X_scaled, centroids)           # Step 4: Assign each point to closest centroid\n",
    "    new_centroids = update_centroids(X_scaled, labels, K)   # Step 5: Recalculate centroids\n",
    "\n",
    "    shift = np.abs(new_centroids - centroids)               # How much did the centroids move?\n",
    "\n",
    "    if np.all(shift < tolerance):                           # If movement is very small → Stop!\n",
    "        print(f\"COMPLETED IN ;{i+1} iterations.\")\n",
    "        break\n",
    "\n",
    "    centroids = new_centroids                               # Update for next round\n"
   ]
  },
  {
   "cell_type": "code",
   "execution_count": 48,
   "id": "ff04d83f",
   "metadata": {},
   "outputs": [
    {
     "data": {
      "image/png": "[encoded data removed]",
      "text/plain": [
       "<Figure size 800x600 with 1 Axes>"
      ]
     },
     "metadata": {},
     "output_type": "display_data"
    }
   ],
   "source": [
    "from sklearn.decomposition import PCA\n",
    "import matplotlib.pyplot as plt\n",
    "\n",
    "# Reduce the scaled 3D data to 2D for easy visualization\n",
    "pca = PCA(n_components=2)\n",
    "X_pca = pca.fit_transform(X_scaled)\n",
    "centroids_pca = pca.transform(centroids)\n",
    "\n",
    "# Create a scatter plot\n",
    "plt.figure(figsize=(8, 6))\n",
    "\n",
    "# Plot each cluster in a different color\n",
    "for k in range(K):\n",
    "    plt.scatter(X_pca[labels == k, 0], X_pca[labels == k, 1], label=f'Cluster {k+1}')\n",
    "\n",
    "# Plot centroids as big black 'X'\n",
    "plt.scatter(centroids_pca[:, 0], centroids_pca[:, 1],\n",
    "            color='RED', marker='X', s=200, label='Centroids')\n",
    "\n",
    "plt.legend()\n",
    "plt.grid(True)\n",
    "plt.show()\n"
   ]
  },
  {
   "cell_type": "code",
   "execution_count": null,
   "id": "0edb2468",
   "metadata": {},
   "outputs": [],
   "source": []
  }
 ],
 "metadata": {
  "kernelspec": {
   "display_name": "base",
   "language": "python",
   "name": "python3"
  },
  "language_info": {
   "codemirror_mode": {
    "name": "ipython",
    "version": 3
   },
   "file_extension": ".py",
   "mimetype": "text/x-python",
   "name": "python",
   "nbconvert_exporter": "python",
   "pygments_lexer": "ipython3",
   "version": "3.12.3"
  }
 },
 "nbformat": 4,
 "nbformat_minor": 5
}
