{
 "cells": [
  {
   "cell_type": "code",
   "execution_count": 1,
   "id": "9ea39aee",
   "metadata": {},
   "outputs": [],
   "source": [
    "# %pip install -r requirements.txt\n",
    "import joblib\n"
   ]
  },
  {
   "cell_type": "code",
   "execution_count": 2,
   "id": "d87c3a8a",
   "metadata": {},
   "outputs": [],
   "source": [
    "#lets load The model \n",
    "# randomForest_model = joblib.load(r\"C:\\Users\\ishaan.narayan\\Desktop\\Ishaan's Workspace\\Intern_ML-DL-Gen\\Employee-Attrition-Prediction\\Models\\best_rf_model.pkl\")\n",
    "# XGB_model = joblib.load(r\"C:\\Users\\ishaan.narayan\\Desktop\\Ishaan's Workspace\\Intern_ML-DL-Gen\\Employee-Attrition-Prediction\\Models\\best_model_XGB.pkl\")\n",
    "# print(randomForest_model)\n",
    "# print(XGB_model)"
   ]
  },
  {
   "cell_type": "code",
   "execution_count": 3,
   "id": "b2720116",
   "metadata": {},
   "outputs": [],
   "source": [
    "\n",
    "# import pandas as pd\n",
    "# import numpy as np\n",
    "# df = pd.read_csv(r\"C:\\Users\\ishaan.narayan\\Desktop\\Ishaan's Workspace\\Intern_ML-DL-Gen\\Employee-Attrition-Prediction\\Data\\cleaned_employee_data.csv\")\n",
    "# print(df.columns)\n",
    "\n",
    "\n"
   ]
  },
  {
   "cell_type": "code",
   "execution_count": 4,
   "id": "3a01ea87",
   "metadata": {},
   "outputs": [],
   "source": [
    "#starting with the FrontEnd UI part "
   ]
  },
  {
   "cell_type": "code",
   "execution_count": 5,
   "id": "ca145cd8",
   "metadata": {},
   "outputs": [],
   "source": [
    "import ipywidgets as widgets\n",
    "from IPython.display import display , clear_output\n",
    "# %pip install voila\n",
    "import voila\n"
   ]
  },
  {
   "cell_type": "code",
   "execution_count": 6,
   "id": "6bde25e8",
   "metadata": {},
   "outputs": [],
   "source": [
    "#mentioning the features that are to be used \n",
    "jobroles = [\"Human Resources\", \"Laboratory Technician\", \"Manager\", \"Manufacturing Director\",\n",
    "    \"Research Director\", \"Research Scientist\", \"Sales Executive\",\n",
    "    \"Sales Representative\", \"Healthcare Representative\"]\n",
    "\n",
    "businesstravel = [\"Travel_Rarely\", \"Travel_Frequently\", \"Non-Travel\"]\n",
    "maritalstatus = [\"Single\", \"Married\", \"Divorced\"]\n",
    "overtime = [\"Yes\", \"No\"]"
   ]
  },
  {
   "cell_type": "code",
   "execution_count": 7,
   "id": "94bfda3b",
   "metadata": {},
   "outputs": [],
   "source": [
    "## for all the features that need to be shown on the WEBAPP\n",
    "# also How they will be Shown to the User ? \n",
    "#as a dropdown or ? slider ? or text BOX\n",
    "\n",
    "age = widgets.IntSlider(description='Age', min=18, max=60, value=30)\n",
    "\n",
    "monthly_income = widgets.IntText(description='MonthlyIncome', value=5000)\n",
    "\n",
    "jobsatisfaction = widgets.Dropdown(description='JobSatisfaction', options=[1,2,3,4], value=3)\n",
    "\n",
    "overtime_yes = widgets.Dropdown(description='OverTime', options=overtime, value=\"No\")\n",
    "\n",
    "total_work_years = widgets.IntSlider(description='TotalWorkingYrs', min=0, max=40, value=10)\n",
    "\n",
    "years_at_company = widgets.IntSlider(description='YrsAtCompany', min=0, max=40, value=5)\n",
    "\n",
    "jobrole = widgets.Dropdown(description='JobRole', options=jobroles, value=jobroles[0])\n",
    "\n",
    "bus_travel = widgets.Dropdown(description='BusinessTravel', options=businesstravel, value=businesstravel[0])\n",
    "\n",
    "marital_status = widgets.Dropdown(description='MaritalStatus', options=maritalstatus, value=maritalstatus[0])\n",
    "\n",
    "distance_home = widgets.IntSlider(description='DistFromHome', min=1, max=30, value=5)\n",
    "\n",
    "submit_button = widgets.Button(description=\"Predict Attrition\")\n"
   ]
  },
  {
   "cell_type": "code",
   "execution_count": 8,
   "id": "bba8def4",
   "metadata": {},
   "outputs": [],
   "source": [
    "result_out = widgets.Output()\n",
    "feat_out = widgets.Output()"
   ]
  },
  {
   "cell_type": "code",
   "execution_count": 9,
   "id": "b5471822",
   "metadata": {},
   "outputs": [
    {
     "data": {
      "application/vnd.jupyter.widget-view+json": {
       "model_id": "63f707a9b97d4e479d9b29965b63b590",
       "version_major": 2,
       "version_minor": 0
      },
      "text/plain": [
       "VBox(children=(IntSlider(value=30, description='Age', max=60, min=18), IntText(value=5000, description='Monthl…"
      ]
     },
     "metadata": {},
     "output_type": "display_data"
    }
   ],
   "source": [
    "import ipywidgets as widgets\n",
    "from IPython.display import display\n",
    "\n",
    "# (define your widgets as before...)\n",
    "\n",
    "inputs = widgets.VBox([\n",
    "    age, monthly_income, jobsatisfaction, overtime_yes,\n",
    "    total_work_years, years_at_company, jobrole, bus_travel,\n",
    "    marital_status, distance_home, submit_button\n",
    "])\n",
    "\n",
    "# You MUST call display() on your UI box, not just run code cells!\n",
    "display(inputs)"
   ]
  },
  {
   "cell_type": "code",
   "execution_count": 10,
   "id": "45b60357",
   "metadata": {},
   "outputs": [
    {
     "data": {
      "application/vnd.jupyter.widget-view+json": {
       "model_id": "96db1d90d09143ebab6e7398d60d6f56",
       "version_major": 2,
       "version_minor": 0
      },
      "text/plain": [
       "VBox(children=(IntSlider(value=30, description='Age', max=60, min=18), Button(description='Predict Attrition',…"
      ]
     },
     "metadata": {},
     "output_type": "display_data"
    }
   ],
   "source": [
    "import ipywidgets as widgets\n",
    "from IPython.display import display, clear_output\n",
    "\n",
    "# Example widgets (use your own)\n",
    "age = widgets.IntSlider(description='Age', min=18, max=60, value=30)\n",
    "submit_button = widgets.Button(description=\"Predict Attrition\")\n",
    "result_out = widgets.Output()\n",
    "\n",
    "def on_submit(b):\n",
    "    with result_out:\n",
    "        clear_output()\n",
    "        print(f\"Predicted for Age: {age.value}\")\n",
    "\n",
    "submit_button.on_click(on_submit)\n",
    "\n",
    "ui = widgets.VBox([age, submit_button, result_out])\n",
    "display(ui)"
   ]
  },
  {
   "cell_type": "code",
   "execution_count": 11,
   "id": "4bbfc984",
   "metadata": {},
   "outputs": [],
   "source": [
    "inputs = widgets.VBox([\n",
    "    age, monthly_income, jobsatisfaction, overtime_yes,\n",
    "    total_work_years, years_at_company, jobrole, bus_travel,\n",
    "    marital_status, distance_home, submit_button\n",
    "])"
   ]
  },
  {
   "cell_type": "code",
   "execution_count": 12,
   "id": "78f558e6",
   "metadata": {},
   "outputs": [
    {
     "data": {
      "application/vnd.jupyter.widget-view+json": {
       "model_id": "9b76ba9530bc424fb252b3199071bcf3",
       "version_major": 2,
       "version_minor": 0
      },
      "text/plain": [
       "Tab(children=(VBox(children=(IntSlider(value=30, description='Age', max=60, min=18), IntText(value=5000, descr…"
      ]
     },
     "metadata": {},
     "output_type": "display_data"
    }
   ],
   "source": [
    "tab = widgets.Tab(children=[inputs, result_out, feat_out])\n",
    "tab.set_title(0, \"Inputs\")\n",
    "tab.set_title(1, \"Result\")\n",
    "tab.set_title(2, \"Feature Importance\")\n",
    "display(tab)"
   ]
  },
  {
   "cell_type": "code",
   "execution_count": 13,
   "id": "3644b104",
   "metadata": {},
   "outputs": [
    {
     "data": {
      "application/vnd.jupyter.widget-view+json": {
       "model_id": "24eba07eef1e4ddc9878ee7d9655b7eb",
       "version_major": 2,
       "version_minor": 0
      },
      "text/plain": [
       "HTML(value=\"<b>Fill out the form and click 'Predict Attrition'. Results will appear in the next tab.</b>\")"
      ]
     },
     "metadata": {},
     "output_type": "display_data"
    },
    {
     "data": {
      "application/vnd.jupyter.widget-view+json": {
       "model_id": "9b76ba9530bc424fb252b3199071bcf3",
       "version_major": 2,
       "version_minor": 0
      },
      "text/plain": [
       "Tab(children=(VBox(children=(IntSlider(value=30, description='Age', max=60, min=18), IntText(value=5000, descr…"
      ]
     },
     "metadata": {},
     "output_type": "display_data"
    }
   ],
   "source": [
    "instructions = widgets.HTML(\"<b>Fill out the form and click 'Predict Attrition'. Results will appear in the next tab.</b>\")\n",
    "display(instructions, tab)"
   ]
  },
  {
   "cell_type": "code",
   "execution_count": 14,
   "id": "4e949126",
   "metadata": {},
   "outputs": [
    {
     "name": "stderr",
     "output_type": "stream",
     "text": [
      "C:\\Users\\ishaan.narayan\\AppData\\Local\\Temp\\ipykernel_4428\\3419809247.py:1: DeprecationWarning: .description_tooltip is deprecated, use .tooltip instead\n",
      "  age.description_tooltip = \"Employee's age in years\"\n"
     ]
    }
   ],
   "source": [
    "age.description_tooltip = \"Employee's age in years\"\n",
    "# Repeat for other widgets as needed"
   ]
  },
  {
   "cell_type": "code",
   "execution_count": 15,
   "id": "d4221f20",
   "metadata": {},
   "outputs": [],
   "source": [
    "def on_submit(b):\n",
    "    with result_out:\n",
    "        clear_output()\n",
    "        # Gather all user inputs, encode as needed, and call model.predict()\n",
    "        print(\"Prediction: ...\")  # Replace with your actual prediction logic\n",
    "        # Optionally, show feature importance in feat_out\n",
    "\n",
    "submit_button.on_click(on_submit)"
   ]
  }
 ],
 "metadata": {
  "kernelspec": {
   "display_name": "Python 3",
   "language": "python",
   "name": "python3"
  },
  "language_info": {
   "codemirror_mode": {
    "name": "ipython",
    "version": 3
   },
   "file_extension": ".py",
   "mimetype": "text/x-python",
   "name": "python",
   "nbconvert_exporter": "python",
   "pygments_lexer": "ipython3",
   "version": "3.13.4"
  }
 },
 "nbformat": 4,
 "nbformat_minor": 5
}
