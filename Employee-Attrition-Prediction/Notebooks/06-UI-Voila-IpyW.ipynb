{
 "cells": [
  {
   "cell_type": "code",
   "execution_count": 36,
   "id": "9ea39aee",
   "metadata": {},
   "outputs": [],
   "source": [
    "# # %pip install -r requirements.txt\n",
    "import joblib\n"
   ]
  },
  {
   "cell_type": "code",
   "execution_count": 37,
   "id": "d87c3a8a",
   "metadata": {},
   "outputs": [
    {
     "name": "stdout",
     "output_type": "stream",
     "text": [
      "RandomForestClassifier(max_depth=10, min_samples_split=5, n_estimators=200,\n",
      "                       random_state=42)\n",
      "XGBClassifier(base_score=None, booster=None, callbacks=None,\n",
      "              colsample_bylevel=None, colsample_bynode=None,\n",
      "              colsample_bytree=None, device=None, early_stopping_rounds=None,\n",
      "              enable_categorical=False, eval_metric='logloss',\n",
      "              feature_types=None, feature_weights=None, gamma=None,\n",
      "              grow_policy=None, importance_type=None,\n",
      "              interaction_constraints=None, learning_rate=0.2, max_bin=None,\n",
      "              max_cat_threshold=None, max_cat_to_onehot=None,\n",
      "              max_delta_step=None, max_depth=3, max_leaves=None,\n",
      "              min_child_weight=None, missing=nan, monotone_constraints=None,\n",
      "              multi_strategy=None, n_estimators=100, n_jobs=None,\n",
      "              num_parallel_tree=None, ...)\n"
     ]
    }
   ],
   "source": [
    "#lets load The model \n",
    "randomForest_model = joblib.load(r\"C:\\Users\\ishaan.narayan\\Desktop\\Ishaan's Workspace\\Intern_ML-DL-Gen\\Employee-Attrition-Prediction\\Models\\best_rf_model.pkl\")\n",
    "XGB_model = joblib.load(r\"C:\\Users\\ishaan.narayan\\Desktop\\Ishaan's Workspace\\Intern_ML-DL-Gen\\Employee-Attrition-Prediction\\Models\\best_model_XGB.pkl\")\n",
    "print(randomForest_model)\n",
    "print(XGB_model)"
   ]
  },
  {
   "cell_type": "code",
   "execution_count": null,
   "id": "2ff042de",
   "metadata": {},
   "outputs": [],
   "source": []
  },
  {
   "cell_type": "code",
   "execution_count": 38,
   "id": "b2720116",
   "metadata": {},
   "outputs": [
    {
     "name": "stdout",
     "output_type": "stream",
     "text": [
      "Index(['Age', 'Attrition', 'DailyRate', 'DistanceFromHome', 'Education',\n",
      "       'EnvironmentSatisfaction', 'HourlyRate', 'JobInvolvement', 'JobLevel',\n",
      "       'JobSatisfaction', 'MonthlyIncome', 'MonthlyRate', 'NumCompaniesWorked',\n",
      "       'PercentSalaryHike', 'PerformanceRating', 'RelationshipSatisfaction',\n",
      "       'StockOptionLevel', 'TotalWorkingYears', 'TrainingTimesLastYear',\n",
      "       'WorkLifeBalance', 'YearsAtCompany', 'YearsInCurrentRole',\n",
      "       'YearsSinceLastPromotion', 'YearsWithCurrManager',\n",
      "       'BusinessTravel_Travel_Frequently', 'BusinessTravel_Travel_Rarely',\n",
      "       'Department_Research & Development', 'Department_Sales',\n",
      "       'EducationField_Life Sciences', 'EducationField_Marketing',\n",
      "       'EducationField_Medical', 'EducationField_Other',\n",
      "       'EducationField_Technical Degree', 'Gender_Male',\n",
      "       'JobRole_Human Resources', 'JobRole_Laboratory Technician',\n",
      "       'JobRole_Manager', 'JobRole_Manufacturing Director',\n",
      "       'JobRole_Research Director', 'JobRole_Research Scientist',\n",
      "       'JobRole_Sales Executive', 'JobRole_Sales Representative',\n",
      "       'MaritalStatus_Married', 'MaritalStatus_Single', 'OverTime_Yes'],\n",
      "      dtype='object')\n"
     ]
    }
   ],
   "source": [
    "\n",
    "import pandas as pd\n",
    "import numpy as np\n",
    "df = pd.read_csv(r\"C:\\Users\\ishaan.narayan\\Desktop\\Ishaan's Workspace\\Intern_ML-DL-Gen\\Employee-Attrition-Prediction\\Data\\cleaned_employee_data.csv\")\n",
    "print(df.columns)\n",
    "\n",
    "\n"
   ]
  },
  {
   "cell_type": "code",
   "execution_count": 39,
   "id": "3a01ea87",
   "metadata": {},
   "outputs": [],
   "source": [
    "#starting with the FrontEnd UI part "
   ]
  },
  {
   "cell_type": "code",
   "execution_count": 40,
   "id": "ca145cd8",
   "metadata": {},
   "outputs": [],
   "source": [
    "import ipywidgets as widgets\n",
    "from IPython.display import display , clear_output\n",
    "# %pip install voila\n",
    "import voila\n"
   ]
  },
  {
   "cell_type": "code",
   "execution_count": 41,
   "id": "6bde25e8",
   "metadata": {},
   "outputs": [],
   "source": [
    "#mentioning the features that are to be used \n",
    "jobroles = [\"Human Resources\", \"Laboratory Technician\", \"Manager\", \"Manufacturing Director\",\n",
    "    \"Research Director\", \"Research Scientist\", \"Sales Executive\",\n",
    "    \"Sales Representative\", \"Healthcare Representative\"]\n",
    "\n",
    "businesstravel = [\"Travel_Rarely\", \"Travel_Frequently\", \"Non-Travel\"]\n",
    "maritalstatus = [\"Single\", \"Married\", \"Divorced\"]\n",
    "overtime = [\"Yes\", \"No\"]"
   ]
  },
  {
   "cell_type": "code",
   "execution_count": 42,
   "id": "94bfda3b",
   "metadata": {},
   "outputs": [],
   "source": [
    "## for all the features that need to be shown on the WEBAPP\n",
    "# also How they will be Shown to the User ? \n",
    "#as a dropdown or ? slider ? or text BOX\n",
    "\n",
    "age = widgets.IntSlider(description='Age', min=18, max=60, value=30)\n",
    "\n",
    "monthly_income = widgets.IntText(description='MonthlyIncome', value=5000)\n",
    "\n",
    "jobsatisfaction = widgets.Dropdown(description='JobSatisfaction', options=[1,2,3,4], value=3)\n",
    "\n",
    "overtime_yes = widgets.Dropdown(description='OverTime', options=overtime, value=\"No\")\n",
    "\n",
    "total_work_years = widgets.IntSlider(description='TotalWorkingYrs', min=0, max=40, value=10)\n",
    "\n",
    "years_at_company = widgets.IntSlider(description='YrsAtCompany', min=0, max=40, value=5)\n",
    "\n",
    "jobrole = widgets.Dropdown(description='JobRole', options=jobroles, value=jobroles[0])\n",
    "\n",
    "bus_travel = widgets.Dropdown(description='BusinessTravel', options=businesstravel, value=businesstravel[0])\n",
    "\n",
    "marital_status = widgets.Dropdown(description='MaritalStatus', options=maritalstatus, value=maritalstatus[0])\n",
    "\n",
    "distance_home = widgets.IntSlider(description='DistFromHome', min=1, max=30, value=5)\n",
    "\n",
    "submit_button = widgets.Button(description=\"Predict Attrition\")\n"
   ]
  },
  {
   "cell_type": "code",
   "execution_count": 43,
   "id": "bba8def4",
   "metadata": {},
   "outputs": [],
   "source": [
    "result_out = widgets.Output()\n",
    "feat_out = widgets.Output()"
   ]
  },
  {
   "cell_type": "code",
   "execution_count": 44,
   "id": "b5471822",
   "metadata": {},
   "outputs": [
    {
     "data": {
      "application/vnd.jupyter.widget-view+json": {
       "model_id": "2b428681bb4b4d06a739eac81c49c886",
       "version_major": 2,
       "version_minor": 0
      },
      "text/plain": [
       "VBox(children=(IntSlider(value=30, description='Age', max=60, min=18), IntText(value=5000, description='Monthl…"
      ]
     },
     "metadata": {},
     "output_type": "display_data"
    }
   ],
   "source": [
    "import ipywidgets as widgets\n",
    "from IPython.display import display\n",
    "\n",
    "# (define your widgets as before...)\n",
    "\n",
    "inputs = widgets.VBox([\n",
    "    age, monthly_income, jobsatisfaction, overtime_yes,\n",
    "    total_work_years, years_at_company, jobrole, bus_travel,\n",
    "    marital_status, distance_home, submit_button\n",
    "])\n",
    "\n",
    "# You MUST call display() on your UI box, not just run code cells!\n",
    "display(inputs)"
   ]
  },
  {
   "cell_type": "code",
   "execution_count": 45,
   "id": "45b60357",
   "metadata": {},
   "outputs": [
    {
     "data": {
      "application/vnd.jupyter.widget-view+json": {
       "model_id": "fa1aefe19db740c68c39dd911402cc82",
       "version_major": 2,
       "version_minor": 0
      },
      "text/plain": [
       "VBox(children=(IntSlider(value=30, description='Age', max=60, min=18), Button(description='Predict Attrition',…"
      ]
     },
     "metadata": {},
     "output_type": "display_data"
    }
   ],
   "source": [
    "import ipywidgets as widgets\n",
    "from IPython.display import display, clear_output\n",
    "\n",
    "# Example widgets (use your own)\n",
    "age = widgets.IntSlider(description='Age', min=18, max=60, value=30)\n",
    "submit_button = widgets.Button(description=\"Predict Attrition\")\n",
    "result_out = widgets.Output()\n",
    "\n",
    "def on_submit(b):\n",
    "    with result_out:\n",
    "        clear_output()\n",
    "        print(f\"Predicted for Age: {age.value}\")\n",
    "\n",
    "submit_button.on_click(on_submit)\n",
    "\n",
    "ui = widgets.VBox([age, submit_button, result_out])\n",
    "display(ui)"
   ]
  },
  {
   "cell_type": "code",
   "execution_count": 46,
   "id": "4bbfc984",
   "metadata": {},
   "outputs": [],
   "source": [
    "inputs = widgets.VBox([\n",
    "    age, monthly_income, jobsatisfaction, overtime_yes,\n",
    "    total_work_years, years_at_company, jobrole, bus_travel,\n",
    "    marital_status, distance_home, submit_button\n",
    "])"
   ]
  },
  {
   "cell_type": "code",
   "execution_count": 47,
   "id": "78f558e6",
   "metadata": {},
   "outputs": [
    {
     "data": {
      "application/vnd.jupyter.widget-view+json": {
       "model_id": "222e6ef406744490b197f7c9f43b3d25",
       "version_major": 2,
       "version_minor": 0
      },
      "text/plain": [
       "Tab(children=(VBox(children=(IntSlider(value=30, description='Age', max=60, min=18), IntText(value=5000, descr…"
      ]
     },
     "metadata": {},
     "output_type": "display_data"
    }
   ],
   "source": [
    "tab = widgets.Tab(children=[inputs, result_out, feat_out])\n",
    "tab.set_title(0, \"Inputs\")\n",
    "tab.set_title(1, \"Result\")\n",
    "tab.set_title(2, \"Feature Importance\")\n",
    "display(tab)"
   ]
  },
  {
   "cell_type": "code",
   "execution_count": 48,
   "id": "3644b104",
   "metadata": {},
   "outputs": [
    {
     "data": {
      "application/vnd.jupyter.widget-view+json": {
       "model_id": "ec0a6d809ff7422e8625157e3f83e50b",
       "version_major": 2,
       "version_minor": 0
      },
      "text/plain": [
       "HTML(value=\"<b>Fill out the form and click 'Predict Attrition'. Results will appear in the next tab.</b>\")"
      ]
     },
     "metadata": {},
     "output_type": "display_data"
    },
    {
     "data": {
      "application/vnd.jupyter.widget-view+json": {
       "model_id": "222e6ef406744490b197f7c9f43b3d25",
       "version_major": 2,
       "version_minor": 0
      },
      "text/plain": [
       "Tab(children=(VBox(children=(IntSlider(value=30, description='Age', max=60, min=18), IntText(value=5000, descr…"
      ]
     },
     "metadata": {},
     "output_type": "display_data"
    }
   ],
   "source": [
    "instructions = widgets.HTML(\"<b>Fill out the form and click 'Predict Attrition'. Results will appear in the next tab.</b>\")\n",
    "display(instructions, tab)"
   ]
  },
  {
   "cell_type": "code",
   "execution_count": 49,
   "id": "dff77639",
   "metadata": {},
   "outputs": [],
   "source": [
    "# "
   ]
  },
  {
   "cell_type": "code",
   "execution_count": 50,
   "id": "4e949126",
   "metadata": {},
   "outputs": [],
   "source": [
    "# age.description_tooltip = \"Employee's age in years\"\n",
    "# # Repeat for other widgets as needed"
   ]
  },
  {
   "cell_type": "code",
   "execution_count": 51,
   "id": "d4221f20",
   "metadata": {},
   "outputs": [],
   "source": [
    "def on_submit(b):\n",
    "    with result_out:\n",
    "        clear_output()\n",
    "        # Gather all user inputs, encode as needed, and call model.predict()\n",
    "        print(\"Prediction: ...\")  # Replace with your actual prediction logic\n",
    "        # Optionally, show feature importance in feat_out\n",
    "\n",
    "submit_button.on_click(on_submit)"
   ]
  },
  {
   "cell_type": "code",
   "execution_count": 52,
   "id": "e30067f8",
   "metadata": {},
   "outputs": [],
   "source": [
    "#Just for the Understanding Of Voila and , IpyW"
   ]
  },
  {
   "cell_type": "code",
   "execution_count": null,
   "id": "067b565b",
   "metadata": {},
   "outputs": [],
   "source": [
    "#Continuing with StreamLit For now \n",
    "#new\n"
   ]
  }
 ],
 "metadata": {
  "kernelspec": {
   "display_name": "Python 3",
   "language": "python",
   "name": "python3"
  },
  "language_info": {
   "codemirror_mode": {
    "name": "ipython",
    "version": 3
   },
   "file_extension": ".py",
   "mimetype": "text/x-python",
   "name": "python",
   "nbconvert_exporter": "python",
   "pygments_lexer": "ipython3",
   "version": "3.13.4"
  }
 },
 "nbformat": 4,
 "nbformat_minor": 5
}
