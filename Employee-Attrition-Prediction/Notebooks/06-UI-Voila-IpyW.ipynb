{
 "cells": [
  {
   "cell_type": "code",
   "execution_count": 29,
   "id": "9ea39aee",
   "metadata": {},
   "outputs": [],
   "source": [
    "# %pip install -r requirements.txt\n",
    "import joblib\n"
   ]
  },
  {
   "cell_type": "code",
   "execution_count": 22,
   "id": "d87c3a8a",
   "metadata": {},
   "outputs": [
    {
     "name": "stdout",
     "output_type": "stream",
     "text": [
      "RandomForestClassifier(max_depth=10, min_samples_split=5, n_estimators=200,\n",
      "                       random_state=42)\n",
      "XGBClassifier(base_score=None, booster=None, callbacks=None,\n",
      "              colsample_bylevel=None, colsample_bynode=None,\n",
      "              colsample_bytree=None, device=None, early_stopping_rounds=None,\n",
      "              enable_categorical=False, eval_metric='logloss',\n",
      "              feature_types=None, feature_weights=None, gamma=None,\n",
      "              grow_policy=None, importance_type=None,\n",
      "              interaction_constraints=None, learning_rate=0.2, max_bin=None,\n",
      "              max_cat_threshold=None, max_cat_to_onehot=None,\n",
      "              max_delta_step=None, max_depth=3, max_leaves=None,\n",
      "              min_child_weight=None, missing=nan, monotone_constraints=None,\n",
      "              multi_strategy=None, n_estimators=100, n_jobs=None,\n",
      "              num_parallel_tree=None, ...)\n"
     ]
    }
   ],
   "source": [
    "#lets load The model \n",
    "randomForest_model = joblib.load(r\"C:\\Users\\ishaan.narayan\\Desktop\\Ishaan's Workspace\\Intern_ML-DL-Gen\\Employee-Attrition-Prediction\\Models\\best_rf_model.pkl\")\n",
    "XGB_model = joblib.load(r\"C:\\Users\\ishaan.narayan\\Desktop\\Ishaan's Workspace\\Intern_ML-DL-Gen\\Employee-Attrition-Prediction\\Models\\best_model_XGB.pkl\")\n",
    "print(randomForest_model)\n",
    "print(XGB_model)"
   ]
  },
  {
   "cell_type": "code",
   "execution_count": 23,
   "id": "b2720116",
   "metadata": {},
   "outputs": [
    {
     "name": "stdout",
     "output_type": "stream",
     "text": [
      "Index(['Age', 'Attrition', 'DailyRate', 'DistanceFromHome', 'Education',\n",
      "       'EnvironmentSatisfaction', 'HourlyRate', 'JobInvolvement', 'JobLevel',\n",
      "       'JobSatisfaction', 'MonthlyIncome', 'MonthlyRate', 'NumCompaniesWorked',\n",
      "       'PercentSalaryHike', 'PerformanceRating', 'RelationshipSatisfaction',\n",
      "       'StockOptionLevel', 'TotalWorkingYears', 'TrainingTimesLastYear',\n",
      "       'WorkLifeBalance', 'YearsAtCompany', 'YearsInCurrentRole',\n",
      "       'YearsSinceLastPromotion', 'YearsWithCurrManager',\n",
      "       'BusinessTravel_Travel_Frequently', 'BusinessTravel_Travel_Rarely',\n",
      "       'Department_Research & Development', 'Department_Sales',\n",
      "       'EducationField_Life Sciences', 'EducationField_Marketing',\n",
      "       'EducationField_Medical', 'EducationField_Other',\n",
      "       'EducationField_Technical Degree', 'Gender_Male',\n",
      "       'JobRole_Human Resources', 'JobRole_Laboratory Technician',\n",
      "       'JobRole_Manager', 'JobRole_Manufacturing Director',\n",
      "       'JobRole_Research Director', 'JobRole_Research Scientist',\n",
      "       'JobRole_Sales Executive', 'JobRole_Sales Representative',\n",
      "       'MaritalStatus_Married', 'MaritalStatus_Single', 'OverTime_Yes'],\n",
      "      dtype='object')\n"
     ]
    }
   ],
   "source": [
    "\n",
    "import pandas as pd\n",
    "import numpy as np\n",
    "df = pd.read_csv(r\"C:\\Users\\ishaan.narayan\\Desktop\\Ishaan's Workspace\\Intern_ML-DL-Gen\\Employee-Attrition-Prediction\\Data\\cleaned_employee_data.csv\")\n",
    "print(df.columns)\n",
    "\n",
    "\n"
   ]
  },
  {
   "cell_type": "code",
   "execution_count": 24,
   "id": "3a01ea87",
   "metadata": {},
   "outputs": [],
   "source": [
    "#starting with the FrontEnd UI part "
   ]
  },
  {
   "cell_type": "code",
   "execution_count": 25,
   "id": "ca145cd8",
   "metadata": {},
   "outputs": [
    {
     "name": "stdout",
     "output_type": "stream",
     "text": [
      "Requirement already satisfied: voila in c:\\users\\ishaan.narayan\\appdata\\local\\programs\\python\\python313\\lib\\site-packages (0.5.8)\n",
      "Requirement already satisfied: jupyter-client<9,>=7.4.4 in c:\\users\\ishaan.narayan\\appdata\\roaming\\python\\python313\\site-packages (from voila) (8.6.3)\n",
      "Requirement already satisfied: jupyter-core>=4.11.0 in c:\\users\\ishaan.narayan\\appdata\\roaming\\python\\python313\\site-packages (from voila) (5.8.1)\n",
      "Requirement already satisfied: jupyter-server<3,>=1.18 in c:\\users\\ishaan.narayan\\appdata\\local\\programs\\python\\python313\\lib\\site-packages (from voila) (2.16.0)\n",
      "Requirement already satisfied: jupyterlab-server<3,>=2.3.0 in c:\\users\\ishaan.narayan\\appdata\\local\\programs\\python\\python313\\lib\\site-packages (from voila) (2.27.3)\n",
      "Requirement already satisfied: nbclient>=0.4.0 in c:\\users\\ishaan.narayan\\appdata\\local\\programs\\python\\python313\\lib\\site-packages (from voila) (0.10.2)\n",
      "Requirement already satisfied: nbconvert<8,>=6.4.5 in c:\\users\\ishaan.narayan\\appdata\\local\\programs\\python\\python313\\lib\\site-packages (from voila) (7.16.6)\n",
      "Requirement already satisfied: traitlets<6,>=5.0.3 in c:\\users\\ishaan.narayan\\appdata\\roaming\\python\\python313\\site-packages (from voila) (5.14.3)\n",
      "Requirement already satisfied: websockets>=9.0 in c:\\users\\ishaan.narayan\\appdata\\local\\programs\\python\\python313\\lib\\site-packages (from voila) (15.0.1)\n",
      "Requirement already satisfied: python-dateutil>=2.8.2 in c:\\users\\ishaan.narayan\\appdata\\roaming\\python\\python313\\site-packages (from jupyter-client<9,>=7.4.4->voila) (2.9.0.post0)\n",
      "Requirement already satisfied: pyzmq>=23.0 in c:\\users\\ishaan.narayan\\appdata\\roaming\\python\\python313\\site-packages (from jupyter-client<9,>=7.4.4->voila) (26.4.0)\n",
      "Requirement already satisfied: tornado>=6.2 in c:\\users\\ishaan.narayan\\appdata\\roaming\\python\\python313\\site-packages (from jupyter-client<9,>=7.4.4->voila) (6.5.1)\n",
      "Requirement already satisfied: anyio>=3.1.0 in c:\\users\\ishaan.narayan\\appdata\\local\\programs\\python\\python313\\lib\\site-packages (from jupyter-server<3,>=1.18->voila) (4.9.0)\n",
      "Requirement already satisfied: argon2-cffi>=21.1 in c:\\users\\ishaan.narayan\\appdata\\local\\programs\\python\\python313\\lib\\site-packages (from jupyter-server<3,>=1.18->voila) (25.1.0)\n",
      "Requirement already satisfied: jinja2>=3.0.3 in c:\\users\\ishaan.narayan\\appdata\\local\\programs\\python\\python313\\lib\\site-packages (from jupyter-server<3,>=1.18->voila) (3.1.6)\n",
      "Requirement already satisfied: jupyter-events>=0.11.0 in c:\\users\\ishaan.narayan\\appdata\\local\\programs\\python\\python313\\lib\\site-packages (from jupyter-server<3,>=1.18->voila) (0.12.0)\n",
      "Requirement already satisfied: jupyter-server-terminals>=0.4.4 in c:\\users\\ishaan.narayan\\appdata\\local\\programs\\python\\python313\\lib\\site-packages (from jupyter-server<3,>=1.18->voila) (0.5.3)\n",
      "Requirement already satisfied: nbformat>=5.3.0 in c:\\users\\ishaan.narayan\\appdata\\local\\programs\\python\\python313\\lib\\site-packages (from jupyter-server<3,>=1.18->voila) (5.10.4)\n",
      "Requirement already satisfied: overrides>=5.0 in c:\\users\\ishaan.narayan\\appdata\\local\\programs\\python\\python313\\lib\\site-packages (from jupyter-server<3,>=1.18->voila) (7.7.0)\n",
      "Requirement already satisfied: packaging>=22.0 in c:\\users\\ishaan.narayan\\appdata\\roaming\\python\\python313\\site-packages (from jupyter-server<3,>=1.18->voila) (25.0)\n",
      "Requirement already satisfied: prometheus-client>=0.9 in c:\\users\\ishaan.narayan\\appdata\\local\\programs\\python\\python313\\lib\\site-packages (from jupyter-server<3,>=1.18->voila) (0.22.1)\n",
      "Requirement already satisfied: pywinpty>=2.0.1 in c:\\users\\ishaan.narayan\\appdata\\local\\programs\\python\\python313\\lib\\site-packages (from jupyter-server<3,>=1.18->voila) (2.0.15)\n",
      "Requirement already satisfied: send2trash>=1.8.2 in c:\\users\\ishaan.narayan\\appdata\\local\\programs\\python\\python313\\lib\\site-packages (from jupyter-server<3,>=1.18->voila) (1.8.3)\n",
      "Requirement already satisfied: terminado>=0.8.3 in c:\\users\\ishaan.narayan\\appdata\\local\\programs\\python\\python313\\lib\\site-packages (from jupyter-server<3,>=1.18->voila) (0.18.1)\n",
      "Requirement already satisfied: websocket-client>=1.7 in c:\\users\\ishaan.narayan\\appdata\\local\\programs\\python\\python313\\lib\\site-packages (from jupyter-server<3,>=1.18->voila) (1.8.0)\n",
      "Requirement already satisfied: babel>=2.10 in c:\\users\\ishaan.narayan\\appdata\\local\\programs\\python\\python313\\lib\\site-packages (from jupyterlab-server<3,>=2.3.0->voila) (2.17.0)\n",
      "Requirement already satisfied: json5>=0.9.0 in c:\\users\\ishaan.narayan\\appdata\\local\\programs\\python\\python313\\lib\\site-packages (from jupyterlab-server<3,>=2.3.0->voila) (0.12.0)\n",
      "Requirement already satisfied: jsonschema>=4.18.0 in c:\\users\\ishaan.narayan\\appdata\\local\\programs\\python\\python313\\lib\\site-packages (from jupyterlab-server<3,>=2.3.0->voila) (4.24.0)\n",
      "Requirement already satisfied: requests>=2.31 in c:\\users\\ishaan.narayan\\appdata\\local\\programs\\python\\python313\\lib\\site-packages (from jupyterlab-server<3,>=2.3.0->voila) (2.32.3)\n",
      "Requirement already satisfied: beautifulsoup4 in c:\\users\\ishaan.narayan\\appdata\\local\\programs\\python\\python313\\lib\\site-packages (from nbconvert<8,>=6.4.5->voila) (4.13.4)\n",
      "Requirement already satisfied: bleach!=5.0.0 in c:\\users\\ishaan.narayan\\appdata\\local\\programs\\python\\python313\\lib\\site-packages (from bleach[css]!=5.0.0->nbconvert<8,>=6.4.5->voila) (6.2.0)\n",
      "Requirement already satisfied: defusedxml in c:\\users\\ishaan.narayan\\appdata\\local\\programs\\python\\python313\\lib\\site-packages (from nbconvert<8,>=6.4.5->voila) (0.7.1)\n",
      "Requirement already satisfied: jupyterlab-pygments in c:\\users\\ishaan.narayan\\appdata\\local\\programs\\python\\python313\\lib\\site-packages (from nbconvert<8,>=6.4.5->voila) (0.3.0)\n",
      "Requirement already satisfied: markupsafe>=2.0 in c:\\users\\ishaan.narayan\\appdata\\local\\programs\\python\\python313\\lib\\site-packages (from nbconvert<8,>=6.4.5->voila) (3.0.2)\n",
      "Requirement already satisfied: mistune<4,>=2.0.3 in c:\\users\\ishaan.narayan\\appdata\\local\\programs\\python\\python313\\lib\\site-packages (from nbconvert<8,>=6.4.5->voila) (3.1.3)\n",
      "Requirement already satisfied: pandocfilters>=1.4.1 in c:\\users\\ishaan.narayan\\appdata\\local\\programs\\python\\python313\\lib\\site-packages (from nbconvert<8,>=6.4.5->voila) (1.5.1)\n",
      "Requirement already satisfied: pygments>=2.4.1 in c:\\users\\ishaan.narayan\\appdata\\roaming\\python\\python313\\site-packages (from nbconvert<8,>=6.4.5->voila) (2.19.1)\n",
      "Requirement already satisfied: idna>=2.8 in c:\\users\\ishaan.narayan\\appdata\\local\\programs\\python\\python313\\lib\\site-packages (from anyio>=3.1.0->jupyter-server<3,>=1.18->voila) (3.10)\n",
      "Requirement already satisfied: sniffio>=1.1 in c:\\users\\ishaan.narayan\\appdata\\local\\programs\\python\\python313\\lib\\site-packages (from anyio>=3.1.0->jupyter-server<3,>=1.18->voila) (1.3.1)\n",
      "Requirement already satisfied: argon2-cffi-bindings in c:\\users\\ishaan.narayan\\appdata\\local\\programs\\python\\python313\\lib\\site-packages (from argon2-cffi>=21.1->jupyter-server<3,>=1.18->voila) (21.2.0)\n",
      "Requirement already satisfied: webencodings in c:\\users\\ishaan.narayan\\appdata\\local\\programs\\python\\python313\\lib\\site-packages (from bleach!=5.0.0->bleach[css]!=5.0.0->nbconvert<8,>=6.4.5->voila) (0.5.1)\n",
      "Requirement already satisfied: tinycss2<1.5,>=1.1.0 in c:\\users\\ishaan.narayan\\appdata\\local\\programs\\python\\python313\\lib\\site-packages (from bleach[css]!=5.0.0->nbconvert<8,>=6.4.5->voila) (1.4.0)\n",
      "Requirement already satisfied: attrs>=22.2.0 in c:\\users\\ishaan.narayan\\appdata\\local\\programs\\python\\python313\\lib\\site-packages (from jsonschema>=4.18.0->jupyterlab-server<3,>=2.3.0->voila) (25.3.0)\n",
      "Requirement already satisfied: jsonschema-specifications>=2023.03.6 in c:\\users\\ishaan.narayan\\appdata\\local\\programs\\python\\python313\\lib\\site-packages (from jsonschema>=4.18.0->jupyterlab-server<3,>=2.3.0->voila) (2025.4.1)\n",
      "Requirement already satisfied: referencing>=0.28.4 in c:\\users\\ishaan.narayan\\appdata\\local\\programs\\python\\python313\\lib\\site-packages (from jsonschema>=4.18.0->jupyterlab-server<3,>=2.3.0->voila) (0.36.2)\n",
      "Requirement already satisfied: rpds-py>=0.7.1 in c:\\users\\ishaan.narayan\\appdata\\local\\programs\\python\\python313\\lib\\site-packages (from jsonschema>=4.18.0->jupyterlab-server<3,>=2.3.0->voila) (0.25.1)\n",
      "Requirement already satisfied: platformdirs>=2.5 in c:\\users\\ishaan.narayan\\appdata\\roaming\\python\\python313\\site-packages (from jupyter-core>=4.11.0->voila) (4.3.8)\n",
      "Requirement already satisfied: pywin32>=300 in c:\\users\\ishaan.narayan\\appdata\\roaming\\python\\python313\\site-packages (from jupyter-core>=4.11.0->voila) (310)\n",
      "Requirement already satisfied: python-json-logger>=2.0.4 in c:\\users\\ishaan.narayan\\appdata\\local\\programs\\python\\python313\\lib\\site-packages (from jupyter-events>=0.11.0->jupyter-server<3,>=1.18->voila) (3.3.0)\n",
      "Requirement already satisfied: pyyaml>=5.3 in c:\\users\\ishaan.narayan\\appdata\\local\\programs\\python\\python313\\lib\\site-packages (from jupyter-events>=0.11.0->jupyter-server<3,>=1.18->voila) (6.0.2)\n",
      "Requirement already satisfied: rfc3339-validator in c:\\users\\ishaan.narayan\\appdata\\local\\programs\\python\\python313\\lib\\site-packages (from jupyter-events>=0.11.0->jupyter-server<3,>=1.18->voila) (0.1.4)\n",
      "Requirement already satisfied: rfc3986-validator>=0.1.1 in c:\\users\\ishaan.narayan\\appdata\\local\\programs\\python\\python313\\lib\\site-packages (from jupyter-events>=0.11.0->jupyter-server<3,>=1.18->voila) (0.1.1)\n",
      "Requirement already satisfied: fqdn in c:\\users\\ishaan.narayan\\appdata\\local\\programs\\python\\python313\\lib\\site-packages (from jsonschema[format-nongpl]>=4.18.0->jupyter-events>=0.11.0->jupyter-server<3,>=1.18->voila) (1.5.1)\n",
      "Requirement already satisfied: isoduration in c:\\users\\ishaan.narayan\\appdata\\local\\programs\\python\\python313\\lib\\site-packages (from jsonschema[format-nongpl]>=4.18.0->jupyter-events>=0.11.0->jupyter-server<3,>=1.18->voila) (20.11.0)\n",
      "Requirement already satisfied: jsonpointer>1.13 in c:\\users\\ishaan.narayan\\appdata\\local\\programs\\python\\python313\\lib\\site-packages (from jsonschema[format-nongpl]>=4.18.0->jupyter-events>=0.11.0->jupyter-server<3,>=1.18->voila) (3.0.0)\n",
      "Requirement already satisfied: uri-template in c:\\users\\ishaan.narayan\\appdata\\local\\programs\\python\\python313\\lib\\site-packages (from jsonschema[format-nongpl]>=4.18.0->jupyter-events>=0.11.0->jupyter-server<3,>=1.18->voila) (1.3.0)\n",
      "Requirement already satisfied: webcolors>=24.6.0 in c:\\users\\ishaan.narayan\\appdata\\local\\programs\\python\\python313\\lib\\site-packages (from jsonschema[format-nongpl]>=4.18.0->jupyter-events>=0.11.0->jupyter-server<3,>=1.18->voila) (24.11.1)\n",
      "Requirement already satisfied: fastjsonschema>=2.15 in c:\\users\\ishaan.narayan\\appdata\\local\\programs\\python\\python313\\lib\\site-packages (from nbformat>=5.3.0->jupyter-server<3,>=1.18->voila) (2.21.1)\n",
      "Requirement already satisfied: six>=1.5 in c:\\users\\ishaan.narayan\\appdata\\roaming\\python\\python313\\site-packages (from python-dateutil>=2.8.2->jupyter-client<9,>=7.4.4->voila) (1.17.0)\n",
      "Requirement already satisfied: charset-normalizer<4,>=2 in c:\\users\\ishaan.narayan\\appdata\\local\\programs\\python\\python313\\lib\\site-packages (from requests>=2.31->jupyterlab-server<3,>=2.3.0->voila) (3.4.2)\n",
      "Requirement already satisfied: urllib3<3,>=1.21.1 in c:\\users\\ishaan.narayan\\appdata\\local\\programs\\python\\python313\\lib\\site-packages (from requests>=2.31->jupyterlab-server<3,>=2.3.0->voila) (2.4.0)\n",
      "Requirement already satisfied: certifi>=2017.4.17 in c:\\users\\ishaan.narayan\\appdata\\local\\programs\\python\\python313\\lib\\site-packages (from requests>=2.31->jupyterlab-server<3,>=2.3.0->voila) (2025.4.26)\n",
      "Requirement already satisfied: cffi>=1.0.1 in c:\\users\\ishaan.narayan\\appdata\\local\\programs\\python\\python313\\lib\\site-packages (from argon2-cffi-bindings->argon2-cffi>=21.1->jupyter-server<3,>=1.18->voila) (1.17.1)\n",
      "Requirement already satisfied: pycparser in c:\\users\\ishaan.narayan\\appdata\\local\\programs\\python\\python313\\lib\\site-packages (from cffi>=1.0.1->argon2-cffi-bindings->argon2-cffi>=21.1->jupyter-server<3,>=1.18->voila) (2.22)\n",
      "Requirement already satisfied: soupsieve>1.2 in c:\\users\\ishaan.narayan\\appdata\\local\\programs\\python\\python313\\lib\\site-packages (from beautifulsoup4->nbconvert<8,>=6.4.5->voila) (2.7)\n",
      "Requirement already satisfied: typing-extensions>=4.0.0 in c:\\users\\ishaan.narayan\\appdata\\local\\programs\\python\\python313\\lib\\site-packages (from beautifulsoup4->nbconvert<8,>=6.4.5->voila) (4.14.0)\n",
      "Requirement already satisfied: arrow>=0.15.0 in c:\\users\\ishaan.narayan\\appdata\\local\\programs\\python\\python313\\lib\\site-packages (from isoduration->jsonschema[format-nongpl]>=4.18.0->jupyter-events>=0.11.0->jupyter-server<3,>=1.18->voila) (1.3.0)\n",
      "Requirement already satisfied: types-python-dateutil>=2.8.10 in c:\\users\\ishaan.narayan\\appdata\\local\\programs\\python\\python313\\lib\\site-packages (from arrow>=0.15.0->isoduration->jsonschema[format-nongpl]>=4.18.0->jupyter-events>=0.11.0->jupyter-server<3,>=1.18->voila) (2.9.0.20250516)\n",
      "Note: you may need to restart the kernel to use updated packages.\n"
     ]
    }
   ],
   "source": [
    "import ipywidgets as widgets\n",
    "from IPython.display import display , clear_output\n",
    "%pip install voila\n",
    "import voila\n"
   ]
  },
  {
   "cell_type": "code",
   "execution_count": 26,
   "id": "6bde25e8",
   "metadata": {},
   "outputs": [],
   "source": [
    "#mentioning the features that are to be used \n",
    "jobroles = [\"Human Resources\", \"Laboratory Technician\", \"Manager\", \"Manufacturing Director\",\n",
    "    \"Research Director\", \"Research Scientist\", \"Sales Executive\",\n",
    "    \"Sales Representative\", \"Healthcare Representative\"]\n",
    "\n",
    "businesstravel = [\"Travel_Rarely\", \"Travel_Frequently\", \"Non-Travel\"]\n",
    "maritalstatus = [\"Single\", \"Married\", \"Divorced\"]\n",
    "overtime = [\"Yes\", \"No\"]"
   ]
  },
  {
   "cell_type": "code",
   "execution_count": 27,
   "id": "94bfda3b",
   "metadata": {},
   "outputs": [],
   "source": [
    "## for all the features that need to be shown on the WEBAPP\n",
    "# also How they will be Shown to the User ? \n",
    "#as a dropdown or ? slider ? or text BOX\n",
    "\n",
    "age = widgets.IntSlider(description='Age', min=18, max=60, value=30)\n",
    "\n",
    "monthly_income = widgets.IntText(description='MonthlyIncome', value=5000)\n",
    "\n",
    "jobsatisfaction = widgets.Dropdown(description='JobSatisfaction', options=[1,2,3,4], value=3)\n",
    "\n",
    "overtime_yes = widgets.Dropdown(description='OverTime', options=overtime, value=\"No\")\n",
    "\n",
    "total_work_years = widgets.IntSlider(description='TotalWorkingYrs', min=0, max=40, value=10)\n",
    "\n",
    "years_at_company = widgets.IntSlider(description='YrsAtCompany', min=0, max=40, value=5)\n",
    "\n",
    "jobrole = widgets.Dropdown(description='JobRole', options=jobroles, value=jobroles[0])\n",
    "\n",
    "bus_travel = widgets.Dropdown(description='BusinessTravel', options=businesstravel, value=businesstravel[0])\n",
    "\n",
    "marital_status = widgets.Dropdown(description='MaritalStatus', options=maritalstatus, value=maritalstatus[0])\n",
    "\n",
    "distance_home = widgets.IntSlider(description='DistFromHome', min=1, max=30, value=5)\n",
    "\n",
    "submit_button = widgets.Button(description=\"Predict Attrition\")\n"
   ]
  },
  {
   "cell_type": "code",
   "execution_count": 28,
   "id": "bba8def4",
   "metadata": {},
   "outputs": [],
   "source": [
    "result_out = widgets.Output()\n",
    "feat_out = widgets.Output()"
   ]
  },
  {
   "cell_type": "code",
   "execution_count": 30,
   "id": "b5471822",
   "metadata": {},
   "outputs": [
    {
     "data": {
      "application/vnd.jupyter.widget-view+json": {
       "model_id": "d97f9be846ed47709378f545bb9f0f7c",
       "version_major": 2,
       "version_minor": 0
      },
      "text/plain": [
       "VBox(children=(IntSlider(value=30, description='Age', max=60, min=18), IntText(value=5000, description='Monthl…"
      ]
     },
     "metadata": {},
     "output_type": "display_data"
    }
   ],
   "source": [
    "import ipywidgets as widgets\n",
    "from IPython.display import display\n",
    "\n",
    "# (define your widgets as before...)\n",
    "\n",
    "inputs = widgets.VBox([\n",
    "    age, monthly_income, jobsatisfaction, overtime_yes,\n",
    "    total_work_years, years_at_company, jobrole, bus_travel,\n",
    "    marital_status, distance_home, submit_button\n",
    "])\n",
    "\n",
    "# You MUST call display() on your UI box, not just run code cells!\n",
    "display(inputs)"
   ]
  }
 ],
 "metadata": {
  "kernelspec": {
   "display_name": "Python 3",
   "language": "python",
   "name": "python3"
  },
  "language_info": {
   "codemirror_mode": {
    "name": "ipython",
    "version": 3
   },
   "file_extension": ".py",
   "mimetype": "text/x-python",
   "name": "python",
   "nbconvert_exporter": "python",
   "pygments_lexer": "ipython3",
   "version": "3.13.4"
  }
 },
 "nbformat": 4,
 "nbformat_minor": 5
}
