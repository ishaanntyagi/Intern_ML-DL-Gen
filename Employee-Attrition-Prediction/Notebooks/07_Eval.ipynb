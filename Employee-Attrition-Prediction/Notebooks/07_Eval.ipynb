{
 "cells": [
  {
   "cell_type": "code",
   "execution_count": 36,
   "id": "3b3115b5",
   "metadata": {},
   "outputs": [],
   "source": [
    "#Evaluation on Sample Dataset with exact same Input Features \n",
    "import joblib\n",
    "import pandas as pd \n",
    "import numpy as np \n"
   ]
  },
  {
   "cell_type": "code",
   "execution_count": 37,
   "id": "2f662d80",
   "metadata": {},
   "outputs": [],
   "source": [
    "data = (r\"C:\\Users\\ishaan.narayan\\Desktop\\Ishaan's Workspace\\Intern_ML-DL-Gen\\Employee-Attrition-Prediction\\Data\\sample_employee_input.csv\")\n",
    "df = pd.read_csv(data)\n",
    "model_path_rf  = (r\"C:\\Users\\ishaan.narayan\\Desktop\\Ishaan's Workspace\\Intern_ML-DL-Gen\\Employee-Attrition-Prediction\\Models\\best_rf_model.pkl\")\n",
    "model_path_xgb = (r\"C:\\Users\\ishaan.narayan\\Desktop\\Ishaan's Workspace\\Intern_ML-DL-Gen\\Employee-Attrition-Prediction\\Models\\best_model_XGB.pkl\")"
   ]
  },
  {
   "cell_type": "code",
   "execution_count": 38,
   "id": "41f12ecd",
   "metadata": {},
   "outputs": [],
   "source": [
    "model = joblib.load(model_path_rf)\n",
    "model_xgb = joblib.load(model_path_xgb)\n",
    "prediction_RandomF = model.predict(df)\n",
    "prediction_XtremeB = model_xgb.predict(df)\n"
   ]
  },
  {
   "cell_type": "code",
   "execution_count": 39,
   "id": "ce813eba",
   "metadata": {},
   "outputs": [
    {
     "name": "stdout",
     "output_type": "stream",
     "text": [
      "['No']\n",
      "[0]\n"
     ]
    }
   ],
   "source": [
    "print(prediction_RandomF)\n",
    "print(prediction_XtremeB)\n"
   ]
  },
  {
   "cell_type": "code",
   "execution_count": 40,
   "id": "a2cd88b6",
   "metadata": {},
   "outputs": [],
   "source": [
    "df2 = pd.user = {\n",
    "    \"Age\": 35,\n",
    "    \"DailyRate\": 1392,\n",
    "    \"DistanceFromHome\": 1\n",
    "}"
   ]
  },
  {
   "cell_type": "code",
   "execution_count": 41,
   "id": "0a187421",
   "metadata": {},
   "outputs": [],
   "source": [
    "# prediction_XtremeB_2 = model_xgb.predict(df2)"
   ]
  },
  {
   "cell_type": "code",
   "execution_count": null,
   "id": "ba3cbe69",
   "metadata": {},
   "outputs": [
    {
     "name": "stdout",
     "output_type": "stream",
     "text": [
      "WARNING: Missing columns were filled: ['Education', 'EnvironmentSatisfaction', 'HourlyRate', 'JobInvolvement', 'JobLevel', 'JobSatisfaction', 'MonthlyIncome', 'MonthlyRate', 'NumCompaniesWorked', 'PercentSalaryHike', 'PerformanceRating', 'RelationshipSatisfaction', 'StockOptionLevel', 'TotalWorkingYears', 'TrainingTimesLastYear', 'WorkLifeBalance', 'YearsAtCompany', 'YearsInCurrentRole', 'YearsSinceLastPromotion', 'YearsWithCurrManager', 'BusinessTravel_Travel_Frequently', 'BusinessTravel_Travel_Rarely', 'Department_Research & Development', 'Department_Sales', 'EducationField_Life Sciences', 'EducationField_Marketing', 'EducationField_Medical', 'EducationField_Other', 'EducationField_Technical Degree', 'Gender_Male', 'JobRole_Human Resources', 'JobRole_Laboratory Technician', 'JobRole_Manager', 'JobRole_Manufacturing Director', 'JobRole_Research Director', 'JobRole_Research Scientist', 'JobRole_Sales Executive', 'JobRole_Sales Representative', 'MaritalStatus_Married', 'MaritalStatus_Single', 'OverTime_Yes']\n",
      "WARNING: Missing columns were filled: ['Education', 'EnvironmentSatisfaction', 'HourlyRate', 'JobInvolvement', 'JobLevel', 'JobSatisfaction', 'MonthlyIncome', 'MonthlyRate', 'NumCompaniesWorked', 'PercentSalaryHike', 'PerformanceRating', 'RelationshipSatisfaction', 'StockOptionLevel', 'TotalWorkingYears', 'TrainingTimesLastYear', 'WorkLifeBalance', 'YearsAtCompany', 'YearsInCurrentRole', 'YearsSinceLastPromotion', 'YearsWithCurrManager', 'BusinessTravel_Travel_Frequently', 'BusinessTravel_Travel_Rarely', 'Department_Research & Development', 'Department_Sales', 'EducationField_Life Sciences', 'EducationField_Marketing', 'EducationField_Medical', 'EducationField_Other', 'EducationField_Technical Degree', 'Gender_Male', 'JobRole_Human Resources', 'JobRole_Laboratory Technician', 'JobRole_Manager', 'JobRole_Manufacturing Director', 'JobRole_Research Director', 'JobRole_Research Scientist', 'JobRole_Sales Executive', 'JobRole_Sales Representative', 'MaritalStatus_Married', 'MaritalStatus_Single', 'OverTime_Yes']\n",
      "RandomForest: ['No']\n",
      "XGBoost: [0]\n"
     ]
    }
   ],
   "source": [
    "full_train_path = (r\"C:\\Users\\ishaan.narayan\\Desktop\\Ishaan's Workspace\\Intern_ML-DL-Gen\\Employee-Attrition-Prediction\\Data\\cleaned_employee_data.csv\")\n",
    "df_train = pd.read_csv(full_train_path)\n",
    "feature_cols = [c for c in df_train.columns if c.lower() not in [\"attrition\"]]\n",
    "means = df_train[feature_cols].mean()\n",
    "\n",
    "def safe_predict(input_df, model, feature_cols, means):\n",
    "    # Add missing columns\n",
    "    missing = [col for col in feature_cols if col not in input_df.columns]\n",
    "    if missing:\n",
    "        print(f\"WARNING: Missing columns were filled: {missing}\")\n",
    "    for col in missing:\n",
    "        input_df[col] = means[col] if col in means else 0\n",
    "    # Remove extra columns\n",
    "    input_df = input_df[[col for col in feature_cols]]\n",
    "    # Fill NaNs\n",
    "    input_df = input_df.fillna(means)\n",
    "    pred = model.predict(input_df)\n",
    "    return pred\n",
    "\n",
    "# Example with partial features (simulate user only providing some columns)\n",
    "df_partial = pd.DataFrame([{\n",
    "    \"Age\": 35,\n",
    "    \"DailyRate\": 13000000000000000000,\n",
    "    \"DistanceFromHome\": 1\n",
    "    \n",
    "}])\n",
    "\n",
    "# Fix input and predict (never errors)\n",
    "pred_rf = safe_predict(df_partial.copy(), model, feature_cols, means)\n",
    "pred_xgb = safe_predict(df_partial.copy(), model_xgb, feature_cols, means)\n",
    "print(\"RandomForest:\", pred_rf)\n",
    "print(\"XGBoost:\", pred_xgb)"
   ]
  }
 ],
 "metadata": {
  "kernelspec": {
   "display_name": "Python 3",
   "language": "python",
   "name": "python3"
  },
  "language_info": {
   "codemirror_mode": {
    "name": "ipython",
    "version": 3
   },
   "file_extension": ".py",
   "mimetype": "text/x-python",
   "name": "python",
   "nbconvert_exporter": "python",
   "pygments_lexer": "ipython3",
   "version": "3.13.4"
  }
 },
 "nbformat": 4,
 "nbformat_minor": 5
}
