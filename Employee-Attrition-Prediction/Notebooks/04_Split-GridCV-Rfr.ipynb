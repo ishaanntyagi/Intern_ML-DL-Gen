{
 "cells": [
  {
   "cell_type": "code",
   "execution_count": 107,
   "id": "f7ffdbdc",
   "metadata": {},
   "outputs": [],
   "source": [
    "#instead of loading all at once we will be loading each library when required \n",
    "import pandas as pd \n",
    "import numpy as np "
   ]
  },
  {
   "cell_type": "code",
   "execution_count": 108,
   "id": "c98759fb",
   "metadata": {},
   "outputs": [
    {
     "name": "stdout",
     "output_type": "stream",
     "text": [
      "   Age Attrition  DailyRate  DistanceFromHome  Education  \\\n",
      "0   41       Yes       1102                 1          2   \n",
      "1   49        No        279                 8          1   \n",
      "2   37       Yes       1373                 2          2   \n",
      "3   33        No       1392                 3          4   \n",
      "4   27        No        591                 2          1   \n",
      "\n",
      "   EnvironmentSatisfaction  HourlyRate  JobInvolvement  JobLevel  \\\n",
      "0                        2          94               3         2   \n",
      "1                        3          61               2         2   \n",
      "2                        4          92               2         1   \n",
      "3                        4          56               3         1   \n",
      "4                        1          40               3         1   \n",
      "\n",
      "   JobSatisfaction  ...  JobRole_Laboratory Technician  JobRole_Manager  \\\n",
      "0                4  ...                          False            False   \n",
      "1                2  ...                          False            False   \n",
      "2                3  ...                           True            False   \n",
      "3                3  ...                          False            False   \n",
      "4                2  ...                           True            False   \n",
      "\n",
      "   JobRole_Manufacturing Director  JobRole_Research Director  \\\n",
      "0                           False                      False   \n",
      "1                           False                      False   \n",
      "2                           False                      False   \n",
      "3                           False                      False   \n",
      "4                           False                      False   \n",
      "\n",
      "   JobRole_Research Scientist  JobRole_Sales Executive  \\\n",
      "0                       False                     True   \n",
      "1                        True                    False   \n",
      "2                       False                    False   \n",
      "3                        True                    False   \n",
      "4                       False                    False   \n",
      "\n",
      "   JobRole_Sales Representative  MaritalStatus_Married  MaritalStatus_Single  \\\n",
      "0                         False                  False                  True   \n",
      "1                         False                   True                 False   \n",
      "2                         False                  False                  True   \n",
      "3                         False                   True                 False   \n",
      "4                         False                   True                 False   \n",
      "\n",
      "   OverTime_Yes  \n",
      "0          True  \n",
      "1         False  \n",
      "2          True  \n",
      "3          True  \n",
      "4         False  \n",
      "\n",
      "[5 rows x 45 columns]\n"
     ]
    }
   ],
   "source": [
    "df = pd.read_csv(r\"C:\\Users\\ishaan.narayan\\Desktop\\Ishaan's Workspace\\Intern_ML-DL-Gen\\Employee-Attrition-Prediction\\Data\\cleaned_employee_data.csv\")\n",
    "print(df.head())"
   ]
  },
  {
   "cell_type": "code",
   "execution_count": 109,
   "id": "88431a22",
   "metadata": {},
   "outputs": [
    {
     "name": "stdout",
     "output_type": "stream",
     "text": [
      "(1470, 44)\n"
     ]
    }
   ],
   "source": [
    "#loading data \n",
    "X = df.drop('Attrition', axis=1)\n",
    "print(X.shape)"
   ]
  },
  {
   "cell_type": "code",
   "execution_count": 110,
   "id": "bea6d93a",
   "metadata": {},
   "outputs": [
    {
     "name": "stdout",
     "output_type": "stream",
     "text": [
      "(1470,)\n"
     ]
    }
   ],
   "source": [
    "y = df['Attrition']\n",
    "print(y.shape)"
   ]
  },
  {
   "cell_type": "code",
   "execution_count": 111,
   "id": "6fb2694e",
   "metadata": {},
   "outputs": [
    {
     "name": "stdout",
     "output_type": "stream",
     "text": [
      "(1029, 44)\n",
      "(441, 44)\n",
      "(441,)\n",
      "(1029,)\n"
     ]
    }
   ],
   "source": [
    "#converting themto TrainTestSplit\n",
    "from sklearn.model_selection import train_test_split\n",
    "X_train, X_test, y_train, y_test = train_test_split(X,y ,random_state=42, test_size=0.3,stratify=y)\n",
    "print(X_train.shape)\n",
    "print(X_test.shape)\n",
    "print(y_test.shape)\n",
    "print(y_train.shape)\n",
    "\n"
   ]
  },
  {
   "cell_type": "code",
   "execution_count": 112,
   "id": "994e4bee",
   "metadata": {},
   "outputs": [],
   "source": [
    "#now i need to find the Best parameters for the RandomForest Classifier \n",
    "#using Grid Search For the TASK\n",
    "#setting up a parameter Grid so that that can be Provided to the GridSearch inb Library \n",
    "\n",
    "from sklearn.model_selection import GridSearchCV\n",
    "my_param_grid = {\n",
    "    'n_estimators': [100,200,300],\n",
    "    'max_depth':[None,10,20,3,7]}\n"
   ]
  },
  {
   "cell_type": "code",
   "execution_count": 113,
   "id": "267a067e",
   "metadata": {},
   "outputs": [
    {
     "name": "stdout",
     "output_type": "stream",
     "text": [
      "RandomForestClassifier(random_state=42)\n"
     ]
    }
   ],
   "source": [
    "#now Importin the Model that we need to use with the GridSeachrdCV \n",
    "from sklearn.ensemble import RandomForestClassifier\n",
    "rf = RandomForestClassifier(random_state=42)\n",
    "print(rf)\n",
    "#rf is the object of the randomdomForest \n"
   ]
  },
  {
   "cell_type": "code",
   "execution_count": 114,
   "id": "6bf40273",
   "metadata": {},
   "outputs": [],
   "source": [
    "#now i will be setting up the GridSeachFunction for Finding out the Best set of Prameters \n",
    "grid_search = GridSearchCV(\n",
    "    estimator=rf,\n",
    "    param_grid=my_param_grid,\n",
    "    n_jobs=-1,\n",
    "    scoring='accuracy'\n",
    ")\n",
    "\n"
   ]
  },
  {
   "cell_type": "code",
   "execution_count": 115,
   "id": "d5f0c4ea",
   "metadata": {},
   "outputs": [
    {
     "name": "stdout",
     "output_type": "stream",
     "text": [
      "Best Parameters: {'max_depth': 10, 'n_estimators': 100}\n",
      "Best Cross-Validation Score: 0.8639450627515984\n"
     ]
    }
   ],
   "source": [
    "#fitting the model with X and y\n",
    "grid_search.fit(X_train, y_train)\n",
    "print(\"Best Parameters:\", grid_search.best_params_)\n",
    "print(\"Best Cross-Validation Score:\", grid_search.best_score_)\n"
   ]
  },
  {
   "cell_type": "code",
   "execution_count": null,
   "id": "92ca1902",
   "metadata": {},
   "outputs": [],
   "source": []
  }
 ],
 "metadata": {
  "kernelspec": {
   "display_name": "Python 3",
   "language": "python",
   "name": "python3"
  },
  "language_info": {
   "codemirror_mode": {
    "name": "ipython",
    "version": 3
   },
   "file_extension": ".py",
   "mimetype": "text/x-python",
   "name": "python",
   "nbconvert_exporter": "python",
   "pygments_lexer": "ipython3",
   "version": "3.13.4"
  }
 },
 "nbformat": 4,
 "nbformat_minor": 5
}
