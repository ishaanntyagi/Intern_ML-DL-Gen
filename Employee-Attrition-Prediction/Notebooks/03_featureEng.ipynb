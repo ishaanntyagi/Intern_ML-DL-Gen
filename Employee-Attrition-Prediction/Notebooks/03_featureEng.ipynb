{
 "cells": [
  {
   "cell_type": "code",
   "execution_count": 34,
   "id": "75df8982",
   "metadata": {},
   "outputs": [],
   "source": [
    "#here we will be considering the oneHotEncoding and Pca and Lda \n",
    "# if we find the need to do so as some features might be of no use\n",
    "# and would increase the Models Complexity."
   ]
  },
  {
   "cell_type": "code",
   "execution_count": 35,
   "id": "1ebd7d0b",
   "metadata": {},
   "outputs": [],
   "source": [
    "import pandas as pd\n",
    "import numpy as np"
   ]
  },
  {
   "cell_type": "code",
   "execution_count": 36,
   "id": "b7d728db",
   "metadata": {},
   "outputs": [],
   "source": [
    "# importing the Dataset\n",
    "data_path = (r\"C:\\Users\\ishaan.narayan\\Desktop\\Ishaan's Workspace\\Intern_ML-DL-Gen\\Employee-Attrition-Prediction\\Data\\WA_Fn-UseC_-HR-Employee-Attrition.csv\")\n",
    "df = pd.read_csv(data_path)"
   ]
  },
  {
   "cell_type": "code",
   "execution_count": 37,
   "id": "ba8c9753",
   "metadata": {},
   "outputs": [
    {
     "name": "stdout",
     "output_type": "stream",
     "text": [
      "Index(['Age', 'Attrition', 'BusinessTravel', 'DailyRate', 'Department',\n",
      "       'DistanceFromHome', 'Education', 'EducationField',\n",
      "       'EnvironmentSatisfaction', 'Gender', 'HourlyRate', 'JobInvolvement',\n",
      "       'JobLevel', 'JobRole', 'JobSatisfaction', 'MaritalStatus',\n",
      "       'MonthlyIncome', 'MonthlyRate', 'NumCompaniesWorked', 'OverTime',\n",
      "       'PercentSalaryHike', 'PerformanceRating', 'RelationshipSatisfaction',\n",
      "       'StockOptionLevel', 'TotalWorkingYears', 'TrainingTimesLastYear',\n",
      "       'WorkLifeBalance', 'YearsAtCompany', 'YearsInCurrentRole',\n",
      "       'YearsSinceLastPromotion', 'YearsWithCurrManager'],\n",
      "      dtype='object')\n"
     ]
    }
   ],
   "source": [
    "df = df.drop(['EmployeeNumber', 'EmployeeCount', 'Over18', 'StandardHours'], axis=1)\n",
    "print(df.columns)"
   ]
  },
  {
   "cell_type": "code",
   "execution_count": 43,
   "id": "528dada0",
   "metadata": {},
   "outputs": [
    {
     "ename": "TypeError",
     "evalue": "get_dummies() got an unexpected keyword argument 'bool'",
     "output_type": "error",
     "traceback": [
      "\u001b[31m---------------------------------------------------------------------------\u001b[39m",
      "\u001b[31mTypeError\u001b[39m                                 Traceback (most recent call last)",
      "\u001b[36mCell\u001b[39m\u001b[36m \u001b[39m\u001b[32mIn[43]\u001b[39m\u001b[32m, line 4\u001b[39m\n\u001b[32m      1\u001b[39m \u001b[38;5;66;03m#using get_dummies for encoding the features of the datset then we will be usin \u001b[39;00m\n\u001b[32m      2\u001b[39m \u001b[38;5;66;03m# the same features with Xg Boost and Random Forst \u001b[39;00m\n\u001b[32m----> \u001b[39m\u001b[32m4\u001b[39m df = \u001b[43mpd\u001b[49m\u001b[43m.\u001b[49m\u001b[43mget_dummies\u001b[49m\u001b[43m(\u001b[49m\u001b[43mdf\u001b[49m\u001b[43m,\u001b[49m\u001b[43m \u001b[49m\u001b[43mcolumns\u001b[49m\u001b[43m=\u001b[49m\u001b[43m[\u001b[49m\u001b[33;43m'\u001b[39;49m\u001b[33;43mBusinessTravel\u001b[39;49m\u001b[33;43m'\u001b[39;49m\u001b[43m,\u001b[49m\n\u001b[32m      5\u001b[39m \u001b[43m                                 \u001b[49m\u001b[33;43m'\u001b[39;49m\u001b[33;43mDepartment\u001b[39;49m\u001b[33;43m'\u001b[39;49m\u001b[43m,\u001b[49m\n\u001b[32m      6\u001b[39m \u001b[43m                                 \u001b[49m\u001b[33;43m'\u001b[39;49m\u001b[33;43mEducationField\u001b[39;49m\u001b[33;43m'\u001b[39;49m\u001b[43m,\u001b[49m\u001b[43m \u001b[49m\n\u001b[32m      7\u001b[39m \u001b[43m                                 \u001b[49m\u001b[33;43m'\u001b[39;49m\u001b[33;43mJobRole\u001b[39;49m\u001b[33;43m'\u001b[39;49m\u001b[43m,\u001b[49m\n\u001b[32m      8\u001b[39m \u001b[43m                                 \u001b[49m\u001b[33;43m'\u001b[39;49m\u001b[33;43mMaritalStatus\u001b[39;49m\u001b[33;43m'\u001b[39;49m\u001b[43m,\u001b[49m\n\u001b[32m      9\u001b[39m \u001b[43m                                 \u001b[49m\u001b[33;43m'\u001b[39;49m\u001b[33;43mOverTime\u001b[39;49m\u001b[33;43m'\u001b[39;49m\u001b[43m]\u001b[49m\u001b[43m,\u001b[49m\u001b[43m \u001b[49m\u001b[43mdrop_first\u001b[49m\u001b[43m=\u001b[49m\u001b[38;5;28;43;01mTrue\u001b[39;49;00m\u001b[43m,\u001b[49m\u001b[38;5;28;43mbool\u001b[39;49m\u001b[43m=\u001b[49m\u001b[38;5;28;43;01mTrue\u001b[39;49;00m\u001b[43m)\u001b[49m\n",
      "\u001b[31mTypeError\u001b[39m: get_dummies() got an unexpected keyword argument 'bool'"
     ]
    }
   ],
   "source": [
    "#using get_dummies for encoding the features of the datset then we will be usin \n",
    "# the same features with Xg Boost and Random Forst \n",
    "\n",
    "df = pd.get_dummies(df, columns=['BusinessTravel',\n",
    "                                 'Department',\n",
    "                                 'EducationField', \n",
    "                                 'JobRole',\n",
    "                                 'MaritalStatus',\n",
    "                                 'OverTime'], drop_first=True,bool=True)\n",
    "\n"
   ]
  },
  {
   "cell_type": "code",
   "execution_count": 39,
   "id": "9ad13005",
   "metadata": {},
   "outputs": [
    {
     "name": "stdout",
     "output_type": "stream",
     "text": [
      "Index(['Age', 'Attrition', 'DailyRate', 'DistanceFromHome', 'Education',\n",
      "       'EnvironmentSatisfaction', 'Gender', 'HourlyRate', 'JobInvolvement',\n",
      "       'JobLevel', 'JobSatisfaction', 'MonthlyIncome', 'MonthlyRate',\n",
      "       'NumCompaniesWorked', 'PercentSalaryHike', 'PerformanceRating',\n",
      "       'RelationshipSatisfaction', 'StockOptionLevel', 'TotalWorkingYears',\n",
      "       'TrainingTimesLastYear', 'WorkLifeBalance', 'YearsAtCompany',\n",
      "       'YearsInCurrentRole', 'YearsSinceLastPromotion', 'YearsWithCurrManager',\n",
      "       'BusinessTravel_Travel_Frequently', 'BusinessTravel_Travel_Rarely',\n",
      "       'Department_Research & Development', 'Department_Sales',\n",
      "       'EducationField_Life Sciences', 'EducationField_Marketing',\n",
      "       'EducationField_Medical', 'EducationField_Other',\n",
      "       'EducationField_Technical Degree', 'JobRole_Human Resources',\n",
      "       'JobRole_Laboratory Technician', 'JobRole_Manager',\n",
      "       'JobRole_Manufacturing Director', 'JobRole_Research Director',\n",
      "       'JobRole_Research Scientist', 'JobRole_Sales Executive',\n",
      "       'JobRole_Sales Representative', 'MaritalStatus_Married',\n",
      "       'MaritalStatus_Single', 'OverTime_Yes'],\n",
      "      dtype='object')\n"
     ]
    }
   ],
   "source": [
    "print(df.columns)"
   ]
  },
  {
   "cell_type": "code",
   "execution_count": 44,
   "id": "b658196a",
   "metadata": {},
   "outputs": [
    {
     "name": "stdout",
     "output_type": "stream",
     "text": [
      "   BusinessTravel_Travel_Frequently  BusinessTravel_Travel_Rarely  \\\n",
      "0                             False                          True   \n",
      "1                              True                         False   \n",
      "2                             False                          True   \n",
      "3                              True                         False   \n",
      "4                             False                          True   \n",
      "5                              True                         False   \n",
      "6                             False                          True   \n",
      "7                             False                          True   \n",
      "8                              True                         False   \n",
      "9                             False                          True   \n",
      "\n",
      "   MaritalStatus_Single  MaritalStatus_Married  OverTime_Yes  \\\n",
      "0                  True                  False          True   \n",
      "1                 False                   True         False   \n",
      "2                  True                  False          True   \n",
      "3                 False                   True          True   \n",
      "4                 False                   True         False   \n",
      "5                  True                  False         False   \n",
      "6                 False                   True          True   \n",
      "7                 False                  False         False   \n",
      "8                  True                  False         False   \n",
      "9                 False                   True         False   \n",
      "\n",
      "   JobRole_Human Resources  JobRole_Laboratory Technician  JobRole_Manager  \\\n",
      "0                    False                          False            False   \n",
      "1                    False                          False            False   \n",
      "2                    False                           True            False   \n",
      "3                    False                          False            False   \n",
      "4                    False                           True            False   \n",
      "5                    False                           True            False   \n",
      "6                    False                           True            False   \n",
      "7                    False                           True            False   \n",
      "8                    False                          False            False   \n",
      "9                    False                          False            False   \n",
      "\n",
      "   JobRole_Manufacturing Director  JobRole_Research Director  \\\n",
      "0                           False                      False   \n",
      "1                           False                      False   \n",
      "2                           False                      False   \n",
      "3                           False                      False   \n",
      "4                           False                      False   \n",
      "5                           False                      False   \n",
      "6                           False                      False   \n",
      "7                           False                      False   \n",
      "8                            True                      False   \n",
      "9                           False                      False   \n",
      "\n",
      "   JobRole_Research Scientist  JobRole_Sales Executive  \\\n",
      "0                       False                     True   \n",
      "1                        True                    False   \n",
      "2                       False                    False   \n",
      "3                        True                    False   \n",
      "4                       False                    False   \n",
      "5                       False                    False   \n",
      "6                       False                    False   \n",
      "7                       False                    False   \n",
      "8                       False                    False   \n",
      "9                       False                    False   \n",
      "\n",
      "   JobRole_Sales Representative  Department_Research & Development  \\\n",
      "0                         False                              False   \n",
      "1                         False                               True   \n",
      "2                         False                               True   \n",
      "3                         False                               True   \n",
      "4                         False                               True   \n",
      "5                         False                               True   \n",
      "6                         False                               True   \n",
      "7                         False                               True   \n",
      "8                         False                               True   \n",
      "9                         False                               True   \n",
      "\n",
      "   Department_Sales  EducationField_Life Sciences  EducationField_Marketing  \\\n",
      "0              True                          True                     False   \n",
      "1             False                          True                     False   \n",
      "2             False                         False                     False   \n",
      "3             False                          True                     False   \n",
      "4             False                         False                     False   \n",
      "5             False                          True                     False   \n",
      "6             False                         False                     False   \n",
      "7             False                          True                     False   \n",
      "8             False                          True                     False   \n",
      "9             False                         False                     False   \n",
      "\n",
      "   EducationField_Medical  EducationField_Other  \\\n",
      "0                   False                 False   \n",
      "1                   False                 False   \n",
      "2                   False                  True   \n",
      "3                   False                 False   \n",
      "4                    True                 False   \n",
      "5                   False                 False   \n",
      "6                    True                 False   \n",
      "7                   False                 False   \n",
      "8                   False                 False   \n",
      "9                    True                 False   \n",
      "\n",
      "   EducationField_Technical Degree  \n",
      "0                            False  \n",
      "1                            False  \n",
      "2                            False  \n",
      "3                            False  \n",
      "4                            False  \n",
      "5                            False  \n",
      "6                            False  \n",
      "7                            False  \n",
      "8                            False  \n",
      "9                            False  \n"
     ]
    }
   ],
   "source": [
    "print(df[['BusinessTravel_Travel_Frequently',\n",
    "          'BusinessTravel_Travel_Rarely',\n",
    "          'MaritalStatus_Single',\n",
    "          'MaritalStatus_Married',\n",
    "          'OverTime_Yes',\n",
    "          'JobRole_Human Resources',\n",
    "          'JobRole_Laboratory Technician',\n",
    "          'JobRole_Manager',\n",
    "          'JobRole_Manufacturing Director',\n",
    "          'JobRole_Research Director',\n",
    "          'JobRole_Research Scientist',\n",
    "          'JobRole_Sales Executive',\n",
    "          'JobRole_Sales Representative',    # <-- comma added here\n",
    "          'Department_Research & Development',\n",
    "          'Department_Sales',\n",
    "          'EducationField_Life Sciences',\n",
    "          'EducationField_Marketing',\n",
    "          'EducationField_Medical',\n",
    "          'EducationField_Other',\n",
    "          'EducationField_Technical Degree'  # <-- comma removed here, 'OverTime' is not needed\n",
    "         ]].head(10))"
   ]
  },
  {
   "cell_type": "code",
   "execution_count": 46,
   "id": "fcf61a2d",
   "metadata": {},
   "outputs": [
    {
     "name": "stdout",
     "output_type": "stream",
     "text": [
      "c:\\Users\\ishaan.narayan\\Desktop\\Ishaan's Workspace\\Intern_ML-DL-Gen\\Employee-Attrition-Prediction\\Notebooks\n"
     ]
    }
   ],
   "source": [
    "#Lets now Export our New Feture Updated Data \n",
    "df.to_csv('cleaned_employee_data.csv', index=False)\n",
    "import os \n",
    "print(os.getcwd())"
   ]
  },
  {
   "cell_type": "code",
   "execution_count": null,
   "id": "12add272",
   "metadata": {},
   "outputs": [],
   "source": [
    "#shifting the data into , DataFolder for better understandin and folder structure maintenance \n"
   ]
  }
 ],
 "metadata": {
  "kernelspec": {
   "display_name": "Python 3",
   "language": "python",
   "name": "python3"
  },
  "language_info": {
   "codemirror_mode": {
    "name": "ipython",
    "version": 3
   },
   "file_extension": ".py",
   "mimetype": "text/x-python",
   "name": "python",
   "nbconvert_exporter": "python",
   "pygments_lexer": "ipython3",
   "version": "3.13.4"
  }
 },
 "nbformat": 4,
 "nbformat_minor": 5
}
