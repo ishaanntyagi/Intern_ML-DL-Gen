{
 "cells": [
  {
   "cell_type": "code",
   "execution_count": null,
   "id": "75df8982",
   "metadata": {},
   "outputs": [],
   "source": [
    "#here we will be considering the oneHotEncoding and Pca and Lda \n",
    "# if we find the need to do so as some features might be of no use\n",
    "# and would increase the Models Complexity."
   ]
  },
  {
   "cell_type": "code",
   "execution_count": null,
   "id": "1ebd7d0b",
   "metadata": {},
   "outputs": [],
   "source": []
  }
 ],
 "metadata": {
  "kernelspec": {
   "display_name": "Python 3",
   "language": "python",
   "name": "python3"
  },
  "language_info": {
   "codemirror_mode": {
    "name": "ipython",
    "version": 3
   },
   "file_extension": ".py",
   "mimetype": "text/x-python",
   "name": "python",
   "nbconvert_exporter": "python",
   "pygments_lexer": "ipython3",
   "version": "3.13.4"
  }
 },
 "nbformat": 4,
 "nbformat_minor": 5
}
